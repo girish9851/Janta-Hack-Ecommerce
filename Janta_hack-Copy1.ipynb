{
 "cells": [
  {
   "cell_type": "code",
   "execution_count": 165,
   "metadata": {},
   "outputs": [],
   "source": [
    "import pandas as pd \n",
    "import numpy as np\n",
    "import matplotlib.pyplot as plt\n",
    "from sklearn.feature_extraction.text import CountVectorizer\n",
    "from sklearn.manifold import TSNE\n",
    "from sklearn.decomposition import TruncatedSVD\n",
    "from sklearn.model_selection import train_test_split\n",
    "from sklearn.preprocessing import LabelEncoder\n",
    "from sklearn.metrics import accuracy_score\n",
    "from sklearn.linear_model import LogisticRegression\n",
    "from sklearn.ensemble import RandomForestClassifier\n",
    "from lightgbm import LGBMClassifier\n",
    "\n",
    "\n",
    "#Import libraries:\n",
    "import pandas as pd\n",
    "import numpy as np\n",
    "import xgboost as xgb\n",
    "from xgboost.sklearn import XGBClassifier\n",
    "from sklearn import metrics   #Additional scklearn functions\n",
    "from sklearn.model_selection import GridSearchCV   #Perforing grid search\n",
    "\n",
    "import matplotlib.pylab as plt\n",
    "%matplotlib inline\n",
    "from matplotlib.pylab import rcParams\n",
    "rcParams['figure.figsize'] = 12, 4"
   ]
  },
  {
   "cell_type": "code",
   "execution_count": 166,
   "metadata": {},
   "outputs": [],
   "source": [
    "# preprocessing \n",
    "\n",
    "train=pd.read_csv('train.csv')\n",
    "test=pd.read_csv('test.csv')\n",
    "submission=pd.read_csv('sample_submission.csv')\n",
    "\n",
    "prepros=train.copy()\n",
    "prepros.drop(['gender'],inplace=True,axis=1)\n",
    "prepros=prepros.append(test, ignore_index=True)   # dataframe containing test and train\n"
   ]
  },
  {
   "cell_type": "code",
   "execution_count": 167,
   "metadata": {},
   "outputs": [],
   "source": [
    " train['gender'] = LabelEncoder().fit_transform(train['gender'])"
   ]
  },
  {
   "cell_type": "code",
   "execution_count": 168,
   "metadata": {},
   "outputs": [],
   "source": [
    "ProductList_processed=[]\n",
    "ProductList_processed_bask_no=[]\n",
    "ProductList_processed_no=[]\n",
    "for i in range(prepros.shape[0]):\n",
    "    ProductList_processed.append((prepros['ProductList'][i].strip().replace(';','').replace('/',' ')))\n",
    "    ProductList_processed_no.append(len(prepros['ProductList'][i].strip().replace(';','').replace('/',' ')))\n",
    "    ProductList_processed_bask_no.append(len(list(prepros['ProductList'][i].split(';'))))"
   ]
  },
  {
   "cell_type": "code",
   "execution_count": 169,
   "metadata": {},
   "outputs": [],
   "source": [
    "prepros['ProductList_processed']=ProductList_processed\n",
    "prepros['ProductList_processed_bask_no']=ProductList_processed_bask_no\n",
    "prepros['ProductList_processed_no']=ProductList_processed_no"
   ]
  },
  {
   "cell_type": "code",
   "execution_count": 170,
   "metadata": {},
   "outputs": [],
   "source": [
    "corpus=ProductList_processed\n",
    "vectorizer = CountVectorizer()\n",
    "X = vectorizer.fit_transform(corpus)\n",
    "cols=vectorizer.get_feature_names()"
   ]
  },
  {
   "cell_type": "code",
   "execution_count": 171,
   "metadata": {},
   "outputs": [],
   "source": [
    "X_m=X.toarray()\n",
    "prod2vec=pd.DataFrame(data=X_m,\n",
    "          index=np.array(range(15000)),\n",
    "          columns=cols)"
   ]
  },
  {
   "cell_type": "code",
   "execution_count": 172,
   "metadata": {},
   "outputs": [],
   "source": [
    "svd = TruncatedSVD(n_components=50, n_iter=7, random_state=42)\n",
    "\n",
    "svd.fit(X)\n",
    "\n",
    "X_tr=svd.fit_transform(X)\n",
    "\n",
    "#X_embedded=TSNE(n_components=2).fit_transform(X_tr)"
   ]
  },
  {
   "cell_type": "code",
   "execution_count": 173,
   "metadata": {},
   "outputs": [],
   "source": [
    "#plt.scatter(X_embedded[:,0],X_embedded[:,1])"
   ]
  },
  {
   "cell_type": "code",
   "execution_count": 174,
   "metadata": {},
   "outputs": [],
   "source": [
    "prod2vec_red=pd.DataFrame(data=X_tr,\n",
    "          index=np.array(range(15000)),\n",
    "          columns=np.array(range(50)))"
   ]
  },
  {
   "cell_type": "code",
   "execution_count": 175,
   "metadata": {},
   "outputs": [],
   "source": [
    "prepros=pd.concat([prepros, prod2vec_red], axis=1, sort=False)\n",
    "prepros_p2v=prepros.copy()"
   ]
  },
  {
   "cell_type": "code",
   "execution_count": 176,
   "metadata": {},
   "outputs": [],
   "source": [
    "prepros_p2v.drop(['ProductList','ProductList_processed'],inplace=True,axis=1)"
   ]
  },
  {
   "cell_type": "code",
   "execution_count": 177,
   "metadata": {},
   "outputs": [],
   "source": [
    "prepros_p2v['startTime']=pd.to_datetime(prepros_p2v['startTime'])\n",
    "prepros_p2v['endTime']=pd.to_datetime(prepros_p2v['endTime'])"
   ]
  },
  {
   "cell_type": "code",
   "execution_count": 178,
   "metadata": {},
   "outputs": [],
   "source": [
    "prepros_p2v['duration']=(prepros_p2v['endTime']-prepros_p2v['startTime']).astype('timedelta64[m]')"
   ]
  },
  {
   "cell_type": "code",
   "execution_count": 179,
   "metadata": {},
   "outputs": [],
   "source": [
    "#prepros_p2v['duration_mod']=prepros_p2v[(prepros_p2v['duration']>0) & (prepros_p2v['duration']<100)]['duration']"
   ]
  },
  {
   "cell_type": "code",
   "execution_count": 180,
   "metadata": {},
   "outputs": [],
   "source": [
    "#prepros_p2v['duration_mod']=prepros_p2v['duration_mod'].fillna(m)"
   ]
  },
  {
   "cell_type": "code",
   "execution_count": 181,
   "metadata": {},
   "outputs": [],
   "source": [
    "#prepros_p2v['duration_mod']\n",
    "#prepros_p2v.drop(['duration'],inplace=True,axis=1)"
   ]
  },
  {
   "cell_type": "code",
   "execution_count": 182,
   "metadata": {},
   "outputs": [],
   "source": [
    "prepros_p2v['hour']=prepros_p2v['startTime'].dt.hour"
   ]
  },
  {
   "cell_type": "code",
   "execution_count": 183,
   "metadata": {},
   "outputs": [],
   "source": [
    "prepros_p2v['weekday']=(prepros_p2v['startTime'].dt.weekday_name).astype('category')"
   ]
  },
  {
   "cell_type": "code",
   "execution_count": 184,
   "metadata": {},
   "outputs": [],
   "source": [
    "prepros_p2v['day']=prepros_p2v['startTime'].dt.day"
   ]
  },
  {
   "cell_type": "code",
   "execution_count": 185,
   "metadata": {},
   "outputs": [],
   "source": [
    "prepros_p2v['month']=prepros_p2v['startTime'].dt.month"
   ]
  },
  {
   "cell_type": "code",
   "execution_count": 186,
   "metadata": {},
   "outputs": [],
   "source": [
    "prepros_p2v['weekday'] = LabelEncoder().fit_transform(prepros_p2v['weekday'])"
   ]
  },
  {
   "cell_type": "code",
   "execution_count": 187,
   "metadata": {},
   "outputs": [],
   "source": [
    "prepros_p2v_f=prepros_p2v.drop(['startTime','endTime'], axis=1)"
   ]
  },
  {
   "cell_type": "code",
   "execution_count": 188,
   "metadata": {},
   "outputs": [],
   "source": [
    "####training and test split####\n",
    "\n",
    "pro_train=prepros_p2v_f[:train.shape[0]]"
   ]
  },
  {
   "cell_type": "code",
   "execution_count": 189,
   "metadata": {},
   "outputs": [],
   "source": [
    "pro_test=prepros_p2v_f[train.shape[0]:]"
   ]
  },
  {
   "cell_type": "code",
   "execution_count": 190,
   "metadata": {},
   "outputs": [],
   "source": [
    "pro_test=pro_test.drop(['session_id'],axis=1)\n",
    "pro_train=pro_train.drop(['session_id'],axis=1)"
   ]
  },
  {
   "cell_type": "code",
   "execution_count": 191,
   "metadata": {},
   "outputs": [],
   "source": [
    "X_train, X_test, y_train, y_test = train_test_split(pro_train, \n",
    "                                                    train['gender'], \n",
    "                                                    test_size=0.15, \n",
    "                                                    random_state=8)"
   ]
  },
  {
   "cell_type": "code",
   "execution_count": 194,
   "metadata": {},
   "outputs": [
    {
     "name": "stdout",
     "output_type": "stream",
     "text": [
      "SCORE: 0.8717460317460317\n"
     ]
    }
   ],
   "source": [
    "# # xgb=XGBClassifier( learning_rate =0.1, n_estimators=177, max_depth=6,\n",
    "#  min_child_weight=2, gamma=0, subsample=0.8, colsample_bytree=0.8,\n",
    "#  objective= 'binary:logistic', nthread=4, scale_pos_weight=1,seed=27)\n",
    "\n",
    "# xgb.fit(pro_train, train['gender'])\n",
    "\n",
    "clf = XGBClassifier( learning_rate =0.1, n_estimators=182, max_depth=7,\n",
    " min_child_weight=5, gamma=0.1, subsample=0.9, colsample_bytree=0.9,\n",
    " objective= 'binary:logistic', nthread=4, scale_pos_weight=1,seed=27)\n",
    "\n",
    "eval_set  = [(X_train, y_train),(X_test, y_test)]\n",
    "\n",
    "clf.fit(X_train, y_train,\n",
    "            eval_set=eval_set, eval_metric='error',verbose=0)\n",
    "\n",
    "pred = clf.predict_proba(X_test)[:,1]\n",
    "accuracy = accuracy_score(y_test, np.round(pred))\n",
    "print( \"SCORE:\", accuracy)"
   ]
  },
  {
   "cell_type": "code",
   "execution_count": 122,
   "metadata": {},
   "outputs": [],
   "source": [
    "def prep_sub(clf):\n",
    "    pred = clf.predict(pro_test)\n",
    "    Pred=pd.DataFrame(pred)\n",
    "    mapping = {0: 'female', 1: 'male'}\n",
    "    Pred=Pred.replace({0: mapping, 1: mapping})\n",
    "    submission['gender']=Pred[0]\n",
    "    submission.to_csv('submission.csv',index=False)\n",
    "    \n",
    "    \n",
    "prep_sub(clf)"
   ]
  },
  {
   "cell_type": "code",
   "execution_count": 195,
   "metadata": {},
   "outputs": [],
   "source": [
    "\n"
   ]
  },
  {
   "cell_type": "code",
   "execution_count": 137,
   "metadata": {},
   "outputs": [],
   "source": []
  },
  {
   "cell_type": "code",
   "execution_count": 199,
   "metadata": {},
   "outputs": [],
   "source": [
    "X_train, X_test, y_train, y_test = train_test_split(pro_train, train['gender'], \n",
    "                                                    test_size=0.15, \n",
    "                                                    random_state=8)"
   ]
  },
  {
   "cell_type": "code",
   "execution_count": 200,
   "metadata": {},
   "outputs": [],
   "source": [
    "from imblearn.over_sampling import SMOTE\n",
    "\n",
    "smote = SMOTE()\n",
    "X_train, y_train = smote.fit_sample(X_train, y_train)"
   ]
  },
  {
   "cell_type": "code",
   "execution_count": 163,
   "metadata": {},
   "outputs": [
    {
     "name": "stdout",
     "output_type": "stream",
     "text": [
      "[0]\tvalidation_0-error:0.14455\tvalidation_1-error:0.166349\n",
      "[1]\tvalidation_0-error:0.122505\tvalidation_1-error:0.16381\n",
      "[2]\tvalidation_0-error:0.126023\tvalidation_1-error:0.158095\n",
      "[3]\tvalidation_0-error:0.121356\tvalidation_1-error:0.152381\n",
      "[4]\tvalidation_0-error:0.117478\tvalidation_1-error:0.147302\n",
      "[5]\tvalidation_0-error:0.116257\tvalidation_1-error:0.147302\n",
      "[6]\tvalidation_0-error:0.114534\tvalidation_1-error:0.149841\n",
      "[7]\tvalidation_0-error:0.110369\tvalidation_1-error:0.145397\n",
      "[8]\tvalidation_0-error:0.110728\tvalidation_1-error:0.146667\n",
      "[9]\tvalidation_0-error:0.108933\tvalidation_1-error:0.148571\n",
      "[10]\tvalidation_0-error:0.107497\tvalidation_1-error:0.146667\n",
      "[11]\tvalidation_0-error:0.107999\tvalidation_1-error:0.147937\n",
      "[12]\tvalidation_0-error:0.105702\tvalidation_1-error:0.148571\n",
      "[13]\tvalidation_0-error:0.104768\tvalidation_1-error:0.146032\n",
      "[14]\tvalidation_0-error:0.103835\tvalidation_1-error:0.144762\n",
      "[15]\tvalidation_0-error:0.102183\tvalidation_1-error:0.144127\n",
      "[16]\tvalidation_0-error:0.10046\tvalidation_1-error:0.143492\n",
      "[17]\tvalidation_0-error:0.100101\tvalidation_1-error:0.144762\n",
      "[18]\tvalidation_0-error:0.099167\tvalidation_1-error:0.147302\n",
      "[19]\tvalidation_0-error:0.098808\tvalidation_1-error:0.146667\n",
      "[20]\tvalidation_0-error:0.097515\tvalidation_1-error:0.146667\n",
      "[21]\tvalidation_0-error:0.095792\tvalidation_1-error:0.146667\n",
      "[22]\tvalidation_0-error:0.093853\tvalidation_1-error:0.146667\n",
      "[23]\tvalidation_0-error:0.093566\tvalidation_1-error:0.146667\n",
      "[24]\tvalidation_0-error:0.091555\tvalidation_1-error:0.147302\n",
      "[25]\tvalidation_0-error:0.090335\tvalidation_1-error:0.147302\n",
      "[26]\tvalidation_0-error:0.089617\tvalidation_1-error:0.146032\n",
      "[27]\tvalidation_0-error:0.08818\tvalidation_1-error:0.146667\n",
      "[28]\tvalidation_0-error:0.08696\tvalidation_1-error:0.146032\n",
      "[29]\tvalidation_0-error:0.086601\tvalidation_1-error:0.146032\n",
      "[30]\tvalidation_0-error:0.086385\tvalidation_1-error:0.146667\n",
      "[31]\tvalidation_0-error:0.084662\tvalidation_1-error:0.146032\n",
      "[32]\tvalidation_0-error:0.083369\tvalidation_1-error:0.145397\n",
      "[33]\tvalidation_0-error:0.081071\tvalidation_1-error:0.146667\n",
      "[34]\tvalidation_0-error:0.079348\tvalidation_1-error:0.146032\n",
      "[35]\tvalidation_0-error:0.078917\tvalidation_1-error:0.146667\n",
      "[36]\tvalidation_0-error:0.078127\tvalidation_1-error:0.147302\n",
      "[37]\tvalidation_0-error:0.076476\tvalidation_1-error:0.147302\n",
      "[38]\tvalidation_0-error:0.074968\tvalidation_1-error:0.146667\n",
      "[39]\tvalidation_0-error:0.074106\tvalidation_1-error:0.147937\n",
      "[40]\tvalidation_0-error:0.073962\tvalidation_1-error:0.147302\n",
      "[41]\tvalidation_0-error:0.073029\tvalidation_1-error:0.146667\n",
      "[42]\tvalidation_0-error:0.071952\tvalidation_1-error:0.147302\n",
      "[43]\tvalidation_0-error:0.072095\tvalidation_1-error:0.147937\n",
      "[44]\tvalidation_0-error:0.071377\tvalidation_1-error:0.147937\n",
      "[45]\tvalidation_0-error:0.071234\tvalidation_1-error:0.146667\n",
      "[46]\tvalidation_0-error:0.06951\tvalidation_1-error:0.147937\n",
      "[47]\tvalidation_0-error:0.068433\tvalidation_1-error:0.146667\n",
      "[48]\tvalidation_0-error:0.06592\tvalidation_1-error:0.147302\n",
      "[49]\tvalidation_0-error:0.064986\tvalidation_1-error:0.147302\n",
      "[50]\tvalidation_0-error:0.064484\tvalidation_1-error:0.147302\n",
      "[51]\tvalidation_0-error:0.063766\tvalidation_1-error:0.147937\n",
      "[52]\tvalidation_0-error:0.063119\tvalidation_1-error:0.149206\n",
      "[53]\tvalidation_0-error:0.06276\tvalidation_1-error:0.149206\n",
      "[54]\tvalidation_0-error:0.06197\tvalidation_1-error:0.147302\n",
      "[55]\tvalidation_0-error:0.061683\tvalidation_1-error:0.146667\n",
      "[56]\tvalidation_0-error:0.061396\tvalidation_1-error:0.147302\n",
      "[57]\tvalidation_0-error:0.060462\tvalidation_1-error:0.146667\n",
      "[58]\tvalidation_0-error:0.059673\tvalidation_1-error:0.147937\n",
      "[59]\tvalidation_0-error:0.059529\tvalidation_1-error:0.146667\n",
      "[60]\tvalidation_0-error:0.058595\tvalidation_1-error:0.147937\n",
      "[61]\tvalidation_0-error:0.058021\tvalidation_1-error:0.148571\n",
      "[62]\tvalidation_0-error:0.057303\tvalidation_1-error:0.147302\n",
      "[63]\tvalidation_0-error:0.057016\tvalidation_1-error:0.147302\n",
      "[64]\tvalidation_0-error:0.056441\tvalidation_1-error:0.146032\n",
      "[65]\tvalidation_0-error:0.055651\tvalidation_1-error:0.145397\n",
      "[66]\tvalidation_0-error:0.055364\tvalidation_1-error:0.146032\n",
      "[67]\tvalidation_0-error:0.054215\tvalidation_1-error:0.144127\n",
      "[68]\tvalidation_0-error:0.053856\tvalidation_1-error:0.144762\n",
      "[69]\tvalidation_0-error:0.053712\tvalidation_1-error:0.144127\n",
      "[70]\tvalidation_0-error:0.053641\tvalidation_1-error:0.145397\n",
      "[71]\tvalidation_0-error:0.052923\tvalidation_1-error:0.144127\n",
      "[72]\tvalidation_0-error:0.05242\tvalidation_1-error:0.144127\n",
      "[73]\tvalidation_0-error:0.051917\tvalidation_1-error:0.144762\n",
      "[74]\tvalidation_0-error:0.051558\tvalidation_1-error:0.144762\n",
      "[75]\tvalidation_0-error:0.051056\tvalidation_1-error:0.142857\n",
      "[76]\tvalidation_0-error:0.05084\tvalidation_1-error:0.142222\n",
      "[77]\tvalidation_0-error:0.050481\tvalidation_1-error:0.142857\n",
      "[78]\tvalidation_0-error:0.050481\tvalidation_1-error:0.143492\n",
      "[79]\tvalidation_0-error:0.049978\tvalidation_1-error:0.143492\n",
      "[80]\tvalidation_0-error:0.049404\tvalidation_1-error:0.142857\n",
      "[81]\tvalidation_0-error:0.04883\tvalidation_1-error:0.143492\n",
      "[82]\tvalidation_0-error:0.048111\tvalidation_1-error:0.143492\n",
      "[83]\tvalidation_0-error:0.047824\tvalidation_1-error:0.142857\n",
      "[84]\tvalidation_0-error:0.04804\tvalidation_1-error:0.142222\n",
      "[85]\tvalidation_0-error:0.047752\tvalidation_1-error:0.142222\n",
      "[86]\tvalidation_0-error:0.047465\tvalidation_1-error:0.143492\n",
      "[87]\tvalidation_0-error:0.046819\tvalidation_1-error:0.142857\n",
      "[88]\tvalidation_0-error:0.046675\tvalidation_1-error:0.142222\n",
      "[89]\tvalidation_0-error:0.046173\tvalidation_1-error:0.144762\n",
      "[90]\tvalidation_0-error:0.044952\tvalidation_1-error:0.145397\n",
      "[91]\tvalidation_0-error:0.045024\tvalidation_1-error:0.146032\n",
      "[92]\tvalidation_0-error:0.044808\tvalidation_1-error:0.144762\n",
      "[93]\tvalidation_0-error:0.044736\tvalidation_1-error:0.144762\n",
      "[94]\tvalidation_0-error:0.044736\tvalidation_1-error:0.145397\n",
      "[95]\tvalidation_0-error:0.044593\tvalidation_1-error:0.146667\n",
      "[96]\tvalidation_0-error:0.044377\tvalidation_1-error:0.146667\n",
      "[97]\tvalidation_0-error:0.043588\tvalidation_1-error:0.146667\n",
      "[98]\tvalidation_0-error:0.042941\tvalidation_1-error:0.145397\n",
      "[99]\tvalidation_0-error:0.042798\tvalidation_1-error:0.144127\n",
      "[100]\tvalidation_0-error:0.042582\tvalidation_1-error:0.144127\n",
      "[101]\tvalidation_0-error:0.042439\tvalidation_1-error:0.144762\n",
      "[102]\tvalidation_0-error:0.041649\tvalidation_1-error:0.144762\n",
      "[103]\tvalidation_0-error:0.041433\tvalidation_1-error:0.145397\n",
      "[104]\tvalidation_0-error:0.041074\tvalidation_1-error:0.145397\n",
      "[105]\tvalidation_0-error:0.041074\tvalidation_1-error:0.144762\n",
      "[106]\tvalidation_0-error:0.040284\tvalidation_1-error:0.146667\n",
      "[107]\tvalidation_0-error:0.040069\tvalidation_1-error:0.146667\n",
      "[108]\tvalidation_0-error:0.039782\tvalidation_1-error:0.146032\n",
      "[109]\tvalidation_0-error:0.039566\tvalidation_1-error:0.146667\n",
      "[110]\tvalidation_0-error:0.03971\tvalidation_1-error:0.144762\n",
      "[111]\tvalidation_0-error:0.039566\tvalidation_1-error:0.144127\n",
      "[112]\tvalidation_0-error:0.039494\tvalidation_1-error:0.144762\n",
      "[113]\tvalidation_0-error:0.038992\tvalidation_1-error:0.146667\n",
      "[114]\tvalidation_0-error:0.038848\tvalidation_1-error:0.147302\n",
      "[115]\tvalidation_0-error:0.039135\tvalidation_1-error:0.145397\n",
      "[116]\tvalidation_0-error:0.038992\tvalidation_1-error:0.145397\n",
      "[117]\tvalidation_0-error:0.038848\tvalidation_1-error:0.146032\n",
      "[118]\tvalidation_0-error:0.03892\tvalidation_1-error:0.145397\n",
      "[119]\tvalidation_0-error:0.038633\tvalidation_1-error:0.145397\n",
      "[120]\tvalidation_0-error:0.038202\tvalidation_1-error:0.145397\n",
      "[121]\tvalidation_0-error:0.038274\tvalidation_1-error:0.143492\n",
      "[122]\tvalidation_0-error:0.038058\tvalidation_1-error:0.144127\n",
      "[123]\tvalidation_0-error:0.037986\tvalidation_1-error:0.144762\n",
      "[124]\tvalidation_0-error:0.038274\tvalidation_1-error:0.146032\n",
      "[125]\tvalidation_0-error:0.038058\tvalidation_1-error:0.145397\n",
      "[126]\tvalidation_0-error:0.037556\tvalidation_1-error:0.145397\n",
      "[127]\tvalidation_0-error:0.037627\tvalidation_1-error:0.146032\n",
      "[128]\tvalidation_0-error:0.037484\tvalidation_1-error:0.145397\n",
      "[129]\tvalidation_0-error:0.037197\tvalidation_1-error:0.144762\n",
      "[130]\tvalidation_0-error:0.036766\tvalidation_1-error:0.143492\n",
      "[131]\tvalidation_0-error:0.036838\tvalidation_1-error:0.143492\n",
      "[132]\tvalidation_0-error:0.036766\tvalidation_1-error:0.144127\n",
      "[133]\tvalidation_0-error:0.036766\tvalidation_1-error:0.144127\n",
      "[134]\tvalidation_0-error:0.036263\tvalidation_1-error:0.144762\n"
     ]
    },
    {
     "name": "stdout",
     "output_type": "stream",
     "text": [
      "[135]\tvalidation_0-error:0.03576\tvalidation_1-error:0.144762\n",
      "[136]\tvalidation_0-error:0.035617\tvalidation_1-error:0.144762\n",
      "[137]\tvalidation_0-error:0.035258\tvalidation_1-error:0.146032\n",
      "[138]\tvalidation_0-error:0.034899\tvalidation_1-error:0.146032\n",
      "[139]\tvalidation_0-error:0.034683\tvalidation_1-error:0.146032\n",
      "[140]\tvalidation_0-error:0.034612\tvalidation_1-error:0.145397\n",
      "[141]\tvalidation_0-error:0.034396\tvalidation_1-error:0.144762\n",
      "[142]\tvalidation_0-error:0.034396\tvalidation_1-error:0.143492\n",
      "[143]\tvalidation_0-error:0.034181\tvalidation_1-error:0.142857\n",
      "[144]\tvalidation_0-error:0.033822\tvalidation_1-error:0.142222\n",
      "[145]\tvalidation_0-error:0.033822\tvalidation_1-error:0.141587\n",
      "[146]\tvalidation_0-error:0.033606\tvalidation_1-error:0.142857\n",
      "[147]\tvalidation_0-error:0.033319\tvalidation_1-error:0.142222\n",
      "[148]\tvalidation_0-error:0.032888\tvalidation_1-error:0.140317\n",
      "[149]\tvalidation_0-error:0.032888\tvalidation_1-error:0.139048\n",
      "[150]\tvalidation_0-error:0.032673\tvalidation_1-error:0.140317\n",
      "[151]\tvalidation_0-error:0.032673\tvalidation_1-error:0.140317\n",
      "[152]\tvalidation_0-error:0.032745\tvalidation_1-error:0.140952\n",
      "[153]\tvalidation_0-error:0.032673\tvalidation_1-error:0.140952\n",
      "[154]\tvalidation_0-error:0.032745\tvalidation_1-error:0.140317\n",
      "[155]\tvalidation_0-error:0.032457\tvalidation_1-error:0.140317\n",
      "[156]\tvalidation_0-error:0.032601\tvalidation_1-error:0.140317\n",
      "[157]\tvalidation_0-error:0.032601\tvalidation_1-error:0.139048\n",
      "[158]\tvalidation_0-error:0.032098\tvalidation_1-error:0.139048\n",
      "[159]\tvalidation_0-error:0.032026\tvalidation_1-error:0.139048\n",
      "[160]\tvalidation_0-error:0.031883\tvalidation_1-error:0.138413\n",
      "[161]\tvalidation_0-error:0.03138\tvalidation_1-error:0.138413\n",
      "[162]\tvalidation_0-error:0.031308\tvalidation_1-error:0.138413\n",
      "[163]\tvalidation_0-error:0.03138\tvalidation_1-error:0.138413\n",
      "[164]\tvalidation_0-error:0.031093\tvalidation_1-error:0.139048\n",
      "[165]\tvalidation_0-error:0.031093\tvalidation_1-error:0.139048\n",
      "[166]\tvalidation_0-error:0.031021\tvalidation_1-error:0.137778\n",
      "[167]\tvalidation_0-error:0.030806\tvalidation_1-error:0.139048\n",
      "[168]\tvalidation_0-error:0.03059\tvalidation_1-error:0.140952\n",
      "[169]\tvalidation_0-error:0.030375\tvalidation_1-error:0.140952\n",
      "[170]\tvalidation_0-error:0.029944\tvalidation_1-error:0.139683\n",
      "[171]\tvalidation_0-error:0.029872\tvalidation_1-error:0.140317\n",
      "[172]\tvalidation_0-error:0.029944\tvalidation_1-error:0.140317\n",
      "[173]\tvalidation_0-error:0.029944\tvalidation_1-error:0.140317\n",
      "[174]\tvalidation_0-error:0.029513\tvalidation_1-error:0.140952\n",
      "[175]\tvalidation_0-error:0.029298\tvalidation_1-error:0.142222\n",
      "[176]\tvalidation_0-error:0.029154\tvalidation_1-error:0.142857\n",
      "[177]\tvalidation_0-error:0.028939\tvalidation_1-error:0.144127\n",
      "[178]\tvalidation_0-error:0.028651\tvalidation_1-error:0.143492\n",
      "[179]\tvalidation_0-error:0.028795\tvalidation_1-error:0.142857\n",
      "[180]\tvalidation_0-error:0.028723\tvalidation_1-error:0.143492\n",
      "[181]\tvalidation_0-error:0.028651\tvalidation_1-error:0.144127\n",
      "[182]\tvalidation_0-error:0.02858\tvalidation_1-error:0.143492\n",
      "[183]\tvalidation_0-error:0.028292\tvalidation_1-error:0.144127\n",
      "[184]\tvalidation_0-error:0.028221\tvalidation_1-error:0.144762\n",
      "[185]\tvalidation_0-error:0.027718\tvalidation_1-error:0.143492\n",
      "[186]\tvalidation_0-error:0.027287\tvalidation_1-error:0.143492\n",
      "[187]\tvalidation_0-error:0.027215\tvalidation_1-error:0.144127\n",
      "[188]\tvalidation_0-error:0.027072\tvalidation_1-error:0.144127\n",
      "[189]\tvalidation_0-error:0.027\tvalidation_1-error:0.142857\n",
      "[190]\tvalidation_0-error:0.027\tvalidation_1-error:0.142222\n",
      "[191]\tvalidation_0-error:0.026784\tvalidation_1-error:0.142222\n",
      "[192]\tvalidation_0-error:0.026713\tvalidation_1-error:0.141587\n",
      "[193]\tvalidation_0-error:0.026497\tvalidation_1-error:0.141587\n",
      "[194]\tvalidation_0-error:0.026497\tvalidation_1-error:0.142222\n",
      "[195]\tvalidation_0-error:0.026497\tvalidation_1-error:0.142857\n",
      "[196]\tvalidation_0-error:0.026641\tvalidation_1-error:0.142222\n",
      "[197]\tvalidation_0-error:0.026354\tvalidation_1-error:0.142857\n",
      "[198]\tvalidation_0-error:0.025851\tvalidation_1-error:0.144127\n",
      "[199]\tvalidation_0-error:0.025348\tvalidation_1-error:0.146032\n",
      "[200]\tvalidation_0-error:0.024774\tvalidation_1-error:0.142857\n",
      "[201]\tvalidation_0-error:0.024846\tvalidation_1-error:0.143492\n",
      "[202]\tvalidation_0-error:0.024558\tvalidation_1-error:0.143492\n",
      "[203]\tvalidation_0-error:0.024199\tvalidation_1-error:0.143492\n",
      "[204]\tvalidation_0-error:0.024056\tvalidation_1-error:0.143492\n",
      "[205]\tvalidation_0-error:0.023912\tvalidation_1-error:0.144127\n",
      "[206]\tvalidation_0-error:0.023984\tvalidation_1-error:0.144762\n",
      "[207]\tvalidation_0-error:0.023697\tvalidation_1-error:0.143492\n",
      "[208]\tvalidation_0-error:0.023553\tvalidation_1-error:0.143492\n",
      "[209]\tvalidation_0-error:0.02305\tvalidation_1-error:0.142857\n",
      "[210]\tvalidation_0-error:0.023122\tvalidation_1-error:0.142857\n",
      "[211]\tvalidation_0-error:0.022835\tvalidation_1-error:0.143492\n",
      "[212]\tvalidation_0-error:0.022907\tvalidation_1-error:0.142857\n",
      "[213]\tvalidation_0-error:0.022548\tvalidation_1-error:0.142222\n",
      "[214]\tvalidation_0-error:0.022189\tvalidation_1-error:0.141587\n",
      "[215]\tvalidation_0-error:0.022404\tvalidation_1-error:0.142222\n",
      "[216]\tvalidation_0-error:0.022261\tvalidation_1-error:0.141587\n",
      "[217]\tvalidation_0-error:0.022189\tvalidation_1-error:0.140952\n",
      "[218]\tvalidation_0-error:0.02183\tvalidation_1-error:0.140952\n",
      "[219]\tvalidation_0-error:0.021901\tvalidation_1-error:0.139683\n",
      "[220]\tvalidation_0-error:0.021686\tvalidation_1-error:0.139683\n",
      "[221]\tvalidation_0-error:0.021471\tvalidation_1-error:0.139048\n",
      "[222]\tvalidation_0-error:0.021542\tvalidation_1-error:0.138413\n",
      "[223]\tvalidation_0-error:0.021471\tvalidation_1-error:0.140317\n",
      "[224]\tvalidation_0-error:0.021542\tvalidation_1-error:0.140952\n",
      "[225]\tvalidation_0-error:0.021399\tvalidation_1-error:0.140952\n",
      "[226]\tvalidation_0-error:0.021183\tvalidation_1-error:0.140952\n",
      "[227]\tvalidation_0-error:0.020968\tvalidation_1-error:0.140317\n",
      "[228]\tvalidation_0-error:0.020824\tvalidation_1-error:0.139683\n",
      "[229]\tvalidation_0-error:0.020609\tvalidation_1-error:0.139683\n",
      "[230]\tvalidation_0-error:0.020465\tvalidation_1-error:0.139683\n",
      "[231]\tvalidation_0-error:0.020322\tvalidation_1-error:0.139683\n",
      "[232]\tvalidation_0-error:0.02025\tvalidation_1-error:0.139683\n",
      "[233]\tvalidation_0-error:0.02025\tvalidation_1-error:0.139683\n",
      "[234]\tvalidation_0-error:0.020178\tvalidation_1-error:0.140317\n",
      "[235]\tvalidation_0-error:0.020106\tvalidation_1-error:0.140952\n",
      "[236]\tvalidation_0-error:0.020106\tvalidation_1-error:0.139683\n",
      "[237]\tvalidation_0-error:0.020178\tvalidation_1-error:0.140317\n",
      "[238]\tvalidation_0-error:0.019747\tvalidation_1-error:0.140317\n",
      "[239]\tvalidation_0-error:0.019819\tvalidation_1-error:0.140317\n",
      "[240]\tvalidation_0-error:0.019819\tvalidation_1-error:0.140952\n",
      "[241]\tvalidation_0-error:0.019532\tvalidation_1-error:0.139683\n",
      "[242]\tvalidation_0-error:0.018886\tvalidation_1-error:0.138413\n",
      "[243]\tvalidation_0-error:0.018598\tvalidation_1-error:0.138413\n",
      "[244]\tvalidation_0-error:0.018598\tvalidation_1-error:0.138413\n",
      "[245]\tvalidation_0-error:0.018526\tvalidation_1-error:0.138413\n",
      "[246]\tvalidation_0-error:0.018598\tvalidation_1-error:0.139048\n",
      "[247]\tvalidation_0-error:0.018598\tvalidation_1-error:0.139683\n",
      "[248]\tvalidation_0-error:0.018167\tvalidation_1-error:0.139048\n",
      "[249]\tvalidation_0-error:0.018239\tvalidation_1-error:0.139683\n",
      "[250]\tvalidation_0-error:0.017952\tvalidation_1-error:0.139683\n",
      "[251]\tvalidation_0-error:0.018024\tvalidation_1-error:0.139683\n",
      "[252]\tvalidation_0-error:0.01788\tvalidation_1-error:0.140317\n",
      "[253]\tvalidation_0-error:0.017952\tvalidation_1-error:0.137778\n",
      "[254]\tvalidation_0-error:0.017665\tvalidation_1-error:0.139048\n",
      "[255]\tvalidation_0-error:0.017593\tvalidation_1-error:0.139048\n",
      "[256]\tvalidation_0-error:0.017378\tvalidation_1-error:0.139048\n",
      "[257]\tvalidation_0-error:0.017019\tvalidation_1-error:0.138413\n",
      "[258]\tvalidation_0-error:0.016731\tvalidation_1-error:0.137778\n",
      "[259]\tvalidation_0-error:0.016803\tvalidation_1-error:0.138413\n",
      "[260]\tvalidation_0-error:0.016516\tvalidation_1-error:0.139683\n",
      "[261]\tvalidation_0-error:0.016444\tvalidation_1-error:0.140317\n",
      "[262]\tvalidation_0-error:0.016372\tvalidation_1-error:0.139683\n",
      "[263]\tvalidation_0-error:0.016157\tvalidation_1-error:0.139048\n",
      "[264]\tvalidation_0-error:0.016157\tvalidation_1-error:0.139048\n",
      "[265]\tvalidation_0-error:0.01587\tvalidation_1-error:0.139683\n",
      "[266]\tvalidation_0-error:0.015582\tvalidation_1-error:0.138413\n",
      "[267]\tvalidation_0-error:0.015511\tvalidation_1-error:0.138413\n"
     ]
    },
    {
     "name": "stdout",
     "output_type": "stream",
     "text": [
      "[268]\tvalidation_0-error:0.015439\tvalidation_1-error:0.137778\n",
      "[269]\tvalidation_0-error:0.015439\tvalidation_1-error:0.138413\n",
      "[270]\tvalidation_0-error:0.015295\tvalidation_1-error:0.138413\n",
      "[271]\tvalidation_0-error:0.015152\tvalidation_1-error:0.138413\n",
      "[272]\tvalidation_0-error:0.015152\tvalidation_1-error:0.138413\n",
      "[273]\tvalidation_0-error:0.015223\tvalidation_1-error:0.138413\n",
      "[274]\tvalidation_0-error:0.015295\tvalidation_1-error:0.139048\n",
      "[275]\tvalidation_0-error:0.015223\tvalidation_1-error:0.137778\n",
      "[276]\tvalidation_0-error:0.015439\tvalidation_1-error:0.137143\n",
      "[277]\tvalidation_0-error:0.01508\tvalidation_1-error:0.137778\n",
      "[278]\tvalidation_0-error:0.015008\tvalidation_1-error:0.137143\n",
      "[279]\tvalidation_0-error:0.015008\tvalidation_1-error:0.137778\n",
      "[280]\tvalidation_0-error:0.014505\tvalidation_1-error:0.137778\n",
      "[281]\tvalidation_0-error:0.014721\tvalidation_1-error:0.136508\n",
      "[282]\tvalidation_0-error:0.014577\tvalidation_1-error:0.137778\n",
      "[283]\tvalidation_0-error:0.014577\tvalidation_1-error:0.137778\n",
      "[284]\tvalidation_0-error:0.014218\tvalidation_1-error:0.138413\n",
      "[285]\tvalidation_0-error:0.014146\tvalidation_1-error:0.137143\n",
      "[286]\tvalidation_0-error:0.014218\tvalidation_1-error:0.137143\n",
      "[287]\tvalidation_0-error:0.01429\tvalidation_1-error:0.137778\n",
      "[288]\tvalidation_0-error:0.01429\tvalidation_1-error:0.137778\n",
      "[289]\tvalidation_0-error:0.01429\tvalidation_1-error:0.137778\n",
      "[290]\tvalidation_0-error:0.014218\tvalidation_1-error:0.139048\n",
      "[291]\tvalidation_0-error:0.01429\tvalidation_1-error:0.138413\n",
      "[292]\tvalidation_0-error:0.014218\tvalidation_1-error:0.138413\n",
      "[293]\tvalidation_0-error:0.013787\tvalidation_1-error:0.138413\n",
      "[294]\tvalidation_0-error:0.013715\tvalidation_1-error:0.136508\n",
      "[295]\tvalidation_0-error:0.013787\tvalidation_1-error:0.137778\n",
      "[296]\tvalidation_0-error:0.013715\tvalidation_1-error:0.137143\n",
      "[297]\tvalidation_0-error:0.013715\tvalidation_1-error:0.136508\n",
      "[298]\tvalidation_0-error:0.013572\tvalidation_1-error:0.137143\n",
      "[299]\tvalidation_0-error:0.013356\tvalidation_1-error:0.137143\n",
      "[300]\tvalidation_0-error:0.012997\tvalidation_1-error:0.137778\n",
      "[301]\tvalidation_0-error:0.012925\tvalidation_1-error:0.138413\n",
      "[302]\tvalidation_0-error:0.012997\tvalidation_1-error:0.138413\n",
      "[303]\tvalidation_0-error:0.012925\tvalidation_1-error:0.137778\n",
      "[304]\tvalidation_0-error:0.01271\tvalidation_1-error:0.137143\n",
      "[305]\tvalidation_0-error:0.012638\tvalidation_1-error:0.137778\n",
      "[306]\tvalidation_0-error:0.012782\tvalidation_1-error:0.137778\n",
      "[307]\tvalidation_0-error:0.012782\tvalidation_1-error:0.137143\n",
      "[308]\tvalidation_0-error:0.012495\tvalidation_1-error:0.137143\n",
      "[309]\tvalidation_0-error:0.012351\tvalidation_1-error:0.137778\n",
      "[310]\tvalidation_0-error:0.012207\tvalidation_1-error:0.138413\n",
      "[311]\tvalidation_0-error:0.012279\tvalidation_1-error:0.137143\n",
      "[312]\tvalidation_0-error:0.012351\tvalidation_1-error:0.137143\n",
      "[313]\tvalidation_0-error:0.012495\tvalidation_1-error:0.139048\n",
      "[314]\tvalidation_0-error:0.012423\tvalidation_1-error:0.138413\n",
      "[315]\tvalidation_0-error:0.012207\tvalidation_1-error:0.139048\n",
      "[316]\tvalidation_0-error:0.012136\tvalidation_1-error:0.139048\n",
      "[317]\tvalidation_0-error:0.011992\tvalidation_1-error:0.139683\n",
      "[318]\tvalidation_0-error:0.012064\tvalidation_1-error:0.138413\n",
      "[319]\tvalidation_0-error:0.012064\tvalidation_1-error:0.139048\n",
      "[320]\tvalidation_0-error:0.011777\tvalidation_1-error:0.139048\n",
      "[321]\tvalidation_0-error:0.011777\tvalidation_1-error:0.139048\n",
      "[322]\tvalidation_0-error:0.01192\tvalidation_1-error:0.139048\n",
      "[323]\tvalidation_0-error:0.012064\tvalidation_1-error:0.137778\n",
      "[324]\tvalidation_0-error:0.011848\tvalidation_1-error:0.137778\n",
      "[325]\tvalidation_0-error:0.011705\tvalidation_1-error:0.137778\n",
      "[326]\tvalidation_0-error:0.011561\tvalidation_1-error:0.137143\n",
      "[327]\tvalidation_0-error:0.011489\tvalidation_1-error:0.137143\n",
      "[328]\tvalidation_0-error:0.011633\tvalidation_1-error:0.137143\n",
      "[329]\tvalidation_0-error:0.011489\tvalidation_1-error:0.136508\n",
      "[330]\tvalidation_0-error:0.011202\tvalidation_1-error:0.137778\n",
      "[331]\tvalidation_0-error:0.011202\tvalidation_1-error:0.136508\n",
      "[332]\tvalidation_0-error:0.011274\tvalidation_1-error:0.136508\n",
      "[333]\tvalidation_0-error:0.010987\tvalidation_1-error:0.135873\n",
      "[334]\tvalidation_0-error:0.010915\tvalidation_1-error:0.137778\n",
      "[335]\tvalidation_0-error:0.010843\tvalidation_1-error:0.137143\n",
      "[336]\tvalidation_0-error:0.010771\tvalidation_1-error:0.138413\n",
      "[337]\tvalidation_0-error:0.010771\tvalidation_1-error:0.139048\n",
      "[338]\tvalidation_0-error:0.010771\tvalidation_1-error:0.138413\n",
      "[339]\tvalidation_0-error:0.010771\tvalidation_1-error:0.137778\n",
      "[340]\tvalidation_0-error:0.010771\tvalidation_1-error:0.137143\n",
      "[341]\tvalidation_0-error:0.010699\tvalidation_1-error:0.137143\n",
      "[342]\tvalidation_0-error:0.010556\tvalidation_1-error:0.137143\n",
      "[343]\tvalidation_0-error:0.010628\tvalidation_1-error:0.138413\n",
      "[344]\tvalidation_0-error:0.010484\tvalidation_1-error:0.138413\n",
      "[345]\tvalidation_0-error:0.010197\tvalidation_1-error:0.138413\n",
      "[346]\tvalidation_0-error:0.010197\tvalidation_1-error:0.138413\n",
      "[347]\tvalidation_0-error:0.010197\tvalidation_1-error:0.137778\n",
      "[348]\tvalidation_0-error:0.010197\tvalidation_1-error:0.137778\n",
      "[349]\tvalidation_0-error:0.010125\tvalidation_1-error:0.137143\n",
      "[350]\tvalidation_0-error:0.010053\tvalidation_1-error:0.137778\n",
      "[351]\tvalidation_0-error:0.010053\tvalidation_1-error:0.137778\n",
      "[352]\tvalidation_0-error:0.010053\tvalidation_1-error:0.137143\n",
      "[353]\tvalidation_0-error:0.010197\tvalidation_1-error:0.137143\n",
      "[354]\tvalidation_0-error:0.009981\tvalidation_1-error:0.137143\n",
      "[355]\tvalidation_0-error:0.009838\tvalidation_1-error:0.137778\n",
      "[356]\tvalidation_0-error:0.009838\tvalidation_1-error:0.137143\n",
      "[357]\tvalidation_0-error:0.009694\tvalidation_1-error:0.137143\n",
      "[358]\tvalidation_0-error:0.009694\tvalidation_1-error:0.137778\n",
      "[359]\tvalidation_0-error:0.009694\tvalidation_1-error:0.138413\n",
      "[360]\tvalidation_0-error:0.00955\tvalidation_1-error:0.136508\n",
      "[361]\tvalidation_0-error:0.00955\tvalidation_1-error:0.137143\n",
      "[362]\tvalidation_0-error:0.009479\tvalidation_1-error:0.135873\n",
      "[363]\tvalidation_0-error:0.009479\tvalidation_1-error:0.136508\n",
      "[364]\tvalidation_0-error:0.009263\tvalidation_1-error:0.137143\n",
      "[365]\tvalidation_0-error:0.009191\tvalidation_1-error:0.137143\n",
      "[366]\tvalidation_0-error:0.009407\tvalidation_1-error:0.137143\n",
      "[367]\tvalidation_0-error:0.009191\tvalidation_1-error:0.137778\n",
      "[368]\tvalidation_0-error:0.008976\tvalidation_1-error:0.137143\n",
      "[369]\tvalidation_0-error:0.009048\tvalidation_1-error:0.137778\n",
      "[370]\tvalidation_0-error:0.00912\tvalidation_1-error:0.137143\n",
      "[371]\tvalidation_0-error:0.00912\tvalidation_1-error:0.137143\n",
      "[372]\tvalidation_0-error:0.008976\tvalidation_1-error:0.139048\n",
      "[373]\tvalidation_0-error:0.008761\tvalidation_1-error:0.137778\n",
      "[374]\tvalidation_0-error:0.008545\tvalidation_1-error:0.138413\n",
      "[375]\tvalidation_0-error:0.008473\tvalidation_1-error:0.137143\n",
      "[376]\tvalidation_0-error:0.008473\tvalidation_1-error:0.138413\n",
      "[377]\tvalidation_0-error:0.00833\tvalidation_1-error:0.138413\n",
      "[378]\tvalidation_0-error:0.008258\tvalidation_1-error:0.138413\n",
      "[379]\tvalidation_0-error:0.008258\tvalidation_1-error:0.139048\n",
      "[380]\tvalidation_0-error:0.008258\tvalidation_1-error:0.140952\n",
      "[381]\tvalidation_0-error:0.008114\tvalidation_1-error:0.140317\n",
      "[382]\tvalidation_0-error:0.008473\tvalidation_1-error:0.140317\n",
      "[383]\tvalidation_0-error:0.00833\tvalidation_1-error:0.140952\n",
      "[384]\tvalidation_0-error:0.008258\tvalidation_1-error:0.140952\n",
      "[385]\tvalidation_0-error:0.008114\tvalidation_1-error:0.140317\n",
      "[386]\tvalidation_0-error:0.008258\tvalidation_1-error:0.140952\n",
      "[387]\tvalidation_0-error:0.008258\tvalidation_1-error:0.140317\n",
      "[388]\tvalidation_0-error:0.008258\tvalidation_1-error:0.140317\n",
      "[389]\tvalidation_0-error:0.008258\tvalidation_1-error:0.139683\n",
      "[390]\tvalidation_0-error:0.008258\tvalidation_1-error:0.139683\n",
      "[391]\tvalidation_0-error:0.008043\tvalidation_1-error:0.139683\n",
      "[392]\tvalidation_0-error:0.008114\tvalidation_1-error:0.139048\n",
      "[393]\tvalidation_0-error:0.008114\tvalidation_1-error:0.140952\n",
      "[394]\tvalidation_0-error:0.008043\tvalidation_1-error:0.139683\n",
      "[395]\tvalidation_0-error:0.007971\tvalidation_1-error:0.140317\n",
      "[396]\tvalidation_0-error:0.007755\tvalidation_1-error:0.140317\n",
      "[397]\tvalidation_0-error:0.007612\tvalidation_1-error:0.140317\n",
      "[398]\tvalidation_0-error:0.007683\tvalidation_1-error:0.140317\n",
      "[399]\tvalidation_0-error:0.007755\tvalidation_1-error:0.139683\n",
      "SCORE: 0.8603174603174604\n"
     ]
    }
   ],
   "source": [
    "clf = XGBClassifier( learning_rate =0.1, n_estimators=400, max_depth=8,\n",
    " min_child_weight=2, gamma=0.1, subsample=0.9, colsample_bytree=0.7,\n",
    " objective= 'binary:logistic', nthread=4, scale_pos_weight=1,seed=27)\n",
    "\n",
    "eval_set  = [(X_train, y_train),(X_test, y_test)]\n",
    "\n",
    "clf.fit(X_train, y_train,\n",
    "            eval_set=eval_set, eval_metric='error')\n",
    "\n",
    "pred = clf.predict_proba(X_test)[:,1]\n",
    "accuracy = accuracy_score(y_test, np.round(pred))\n",
    "print( \"SCORE:\", accuracy)"
   ]
  },
  {
   "cell_type": "code",
   "execution_count": 205,
   "metadata": {},
   "outputs": [],
   "source": [
    "clf = LogisticRegression(solver='liblinear',penalty='l1')"
   ]
  },
  {
   "cell_type": "code",
   "execution_count": 206,
   "metadata": {},
   "outputs": [
    {
     "data": {
      "text/plain": [
       "0.8552380952380952"
      ]
     },
     "execution_count": 206,
     "metadata": {},
     "output_type": "execute_result"
    }
   ],
   "source": [
    "clf.fit(X_train, y_train).score(X_test, y_test)"
   ]
  },
  {
   "cell_type": "code",
   "execution_count": 207,
   "metadata": {},
   "outputs": [],
   "source": [
    "X_train, y_train = smote.fit_sample(pro_train, train['gender'])"
   ]
  },
  {
   "cell_type": "code",
   "execution_count": 208,
   "metadata": {},
   "outputs": [
    {
     "data": {
      "text/plain": [
       "0.8526984126984127"
      ]
     },
     "execution_count": 208,
     "metadata": {},
     "output_type": "execute_result"
    }
   ],
   "source": [
    "clf.fit(X_train, y_train).score(X_test, y_test)"
   ]
  },
  {
   "cell_type": "code",
   "execution_count": 209,
   "metadata": {},
   "outputs": [],
   "source": [
    "prep_sub(clf)"
   ]
  },
  {
   "cell_type": "code",
   "execution_count": null,
   "metadata": {},
   "outputs": [],
   "source": []
  }
 ],
 "metadata": {
  "kernelspec": {
   "display_name": "Python 3",
   "language": "python",
   "name": "python3"
  },
  "language_info": {
   "codemirror_mode": {
    "name": "ipython",
    "version": 3
   },
   "file_extension": ".py",
   "mimetype": "text/x-python",
   "name": "python",
   "nbconvert_exporter": "python",
   "pygments_lexer": "ipython3",
   "version": "3.7.6"
  }
 },
 "nbformat": 4,
 "nbformat_minor": 2
}
