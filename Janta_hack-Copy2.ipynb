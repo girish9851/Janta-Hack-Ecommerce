{
 "cells": [
  {
   "cell_type": "code",
   "execution_count": 1,
   "metadata": {},
   "outputs": [
    {
     "name": "stderr",
     "output_type": "stream",
     "text": [
      "//anaconda3/lib/python3.7/site-packages/lightgbm/__init__.py:48: UserWarning: Starting from version 2.2.1, the library file in distribution wheels for macOS is built by the Apple Clang (Xcode_8.3.3) compiler.\n",
      "This means that in case of installing LightGBM from PyPI via the ``pip install lightgbm`` command, you don't need to install the gcc compiler anymore.\n",
      "Instead of that, you need to install the OpenMP library, which is required for running LightGBM on the system with the Apple Clang compiler.\n",
      "You can install the OpenMP library by the following command: ``brew install libomp``.\n",
      "  \"You can install the OpenMP library by the following command: ``brew install libomp``.\", UserWarning)\n"
     ]
    }
   ],
   "source": [
    "import pandas as pd \n",
    "import numpy as np\n",
    "import matplotlib.pyplot as plt\n",
    "from sklearn.feature_extraction.text import CountVectorizer\n",
    "from sklearn.manifold import TSNE\n",
    "from sklearn.decomposition import TruncatedSVD\n",
    "from sklearn.model_selection import train_test_split\n",
    "from sklearn.preprocessing import LabelEncoder\n",
    "from sklearn.metrics import accuracy_score\n",
    "from sklearn.linear_model import LogisticRegression\n",
    "from sklearn.ensemble import RandomForestClassifier\n",
    "from lightgbm import LGBMClassifier\n",
    "\n",
    "\n",
    "#Import libraries:\n",
    "import pandas as pd\n",
    "import numpy as np\n",
    "import xgboost as xgb\n",
    "from xgboost.sklearn import XGBClassifier\n",
    "from sklearn import metrics   #Additional scklearn functions\n",
    "from sklearn.model_selection import GridSearchCV   #Perforing grid search\n",
    "\n",
    "import matplotlib.pylab as plt\n",
    "%matplotlib inline\n",
    "from matplotlib.pylab import rcParams\n",
    "rcParams['figure.figsize'] = 12, 4"
   ]
  },
  {
   "cell_type": "code",
   "execution_count": 2,
   "metadata": {},
   "outputs": [],
   "source": [
    "# preprocessing \n",
    "\n",
    "train=pd.read_csv('train.csv')\n",
    "test=pd.read_csv('test.csv')\n",
    "submission=pd.read_csv('sample_submission.csv')\n",
    "\n",
    "prepros=train.copy()\n",
    "prepros.drop(['gender'],inplace=True,axis=1)\n",
    "prepros=prepros.append(test, ignore_index=True)   # dataframe containing test and train\n"
   ]
  },
  {
   "cell_type": "code",
   "execution_count": 3,
   "metadata": {},
   "outputs": [],
   "source": [
    " train['gender'] = LabelEncoder().fit_transform(train['gender'])"
   ]
  },
  {
   "cell_type": "code",
   "execution_count": 4,
   "metadata": {},
   "outputs": [],
   "source": [
    "ProductList_processed=[]\n",
    "ProductList_processed_bask_no=[]\n",
    "ProductList_processed_no=[]\n",
    "for i in range(prepros.shape[0]):\n",
    "    ProductList_processed.append((prepros['ProductList'][i].strip().replace(';','').replace('/',' ')))\n",
    "    ProductList_processed_no.append(len(prepros['ProductList'][i].strip().replace(';','').replace('/',' ')))\n",
    "    ProductList_processed_bask_no.append(len(list(prepros['ProductList'][i].split(';'))))"
   ]
  },
  {
   "cell_type": "code",
   "execution_count": 6,
   "metadata": {},
   "outputs": [],
   "source": [
    "prepros['ProductList_processed']=ProductList_processed\n",
    "prepros['ProductList_processed_bask_no']=ProductList_processed_bask_no\n",
    "prepros['ProductList_processed_no']=ProductList_processed_no"
   ]
  },
  {
   "cell_type": "code",
   "execution_count": null,
   "metadata": {},
   "outputs": [],
   "source": []
  },
  {
   "cell_type": "code",
   "execution_count": 7,
   "metadata": {},
   "outputs": [],
   "source": [
    "corpus=ProductList_processed\n",
    "vectorizer = CountVectorizer()\n",
    "X = vectorizer.fit_transform(corpus)\n",
    "cols=vectorizer.get_feature_names()"
   ]
  },
  {
   "cell_type": "code",
   "execution_count": 8,
   "metadata": {},
   "outputs": [],
   "source": [
    "X_m=X.toarray()\n",
    "prod2vec=pd.DataFrame(data=X_m,\n",
    "          index=np.array(range(15000)),\n",
    "          columns=cols)"
   ]
  },
  {
   "cell_type": "code",
   "execution_count": 9,
   "metadata": {},
   "outputs": [],
   "source": [
    "svd = TruncatedSVD(n_components=50, n_iter=7, random_state=42)\n",
    "\n",
    "svd.fit(X)\n",
    "\n",
    "X_tr=svd.fit_transform(X)\n",
    "\n",
    "#X_embedded=TSNE(n_components=2).fit_transform(X_tr)"
   ]
  },
  {
   "cell_type": "code",
   "execution_count": 10,
   "metadata": {},
   "outputs": [],
   "source": [
    "#plt.scatter(X_embedded[:,0],X_embedded[:,1])"
   ]
  },
  {
   "cell_type": "code",
   "execution_count": 11,
   "metadata": {},
   "outputs": [],
   "source": [
    "prod2vec_red=pd.DataFrame(data=X_tr,\n",
    "          index=np.array(range(15000)),\n",
    "          columns=np.array(range(50)))"
   ]
  },
  {
   "cell_type": "code",
   "execution_count": 12,
   "metadata": {},
   "outputs": [],
   "source": [
    "prepros=pd.concat([prepros, prod2vec_red], axis=1, sort=False)\n",
    "prepros_p2v=prepros.copy()"
   ]
  },
  {
   "cell_type": "code",
   "execution_count": 13,
   "metadata": {},
   "outputs": [],
   "source": [
    "prepros_p2v.drop(['ProductList','ProductList_processed'],inplace=True,axis=1)"
   ]
  },
  {
   "cell_type": "code",
   "execution_count": 14,
   "metadata": {},
   "outputs": [],
   "source": [
    "prepros_p2v['startTime']=pd.to_datetime(prepros_p2v['startTime'])\n",
    "prepros_p2v['endTime']=pd.to_datetime(prepros_p2v['endTime'])"
   ]
  },
  {
   "cell_type": "code",
   "execution_count": 15,
   "metadata": {},
   "outputs": [],
   "source": [
    "prepros_p2v['duration']=(prepros_p2v['endTime']-prepros_p2v['startTime']).astype('timedelta64[m]')"
   ]
  },
  {
   "cell_type": "code",
   "execution_count": 16,
   "metadata": {},
   "outputs": [],
   "source": [
    "#prepros_p2v['duration_mod']=prepros_p2v[(prepros_p2v['duration']>0) & (prepros_p2v['duration']<100)]['duration']"
   ]
  },
  {
   "cell_type": "code",
   "execution_count": 17,
   "metadata": {},
   "outputs": [],
   "source": [
    "#prepros_p2v['duration_mod']=prepros_p2v['duration_mod'].fillna(m)"
   ]
  },
  {
   "cell_type": "code",
   "execution_count": 18,
   "metadata": {},
   "outputs": [],
   "source": [
    "#prepros_p2v['duration_mod']\n",
    "#prepros_p2v.drop(['duration'],inplace=True,axis=1)"
   ]
  },
  {
   "cell_type": "code",
   "execution_count": 19,
   "metadata": {},
   "outputs": [],
   "source": [
    "prepros_p2v['hour']=prepros_p2v['startTime'].dt.hour"
   ]
  },
  {
   "cell_type": "code",
   "execution_count": 20,
   "metadata": {},
   "outputs": [],
   "source": [
    "prepros_p2v['weekday']=(prepros_p2v['startTime'].dt.weekday_name).astype('category')"
   ]
  },
  {
   "cell_type": "code",
   "execution_count": 21,
   "metadata": {},
   "outputs": [],
   "source": [
    "prepros_p2v['day']=prepros_p2v['startTime'].dt.day"
   ]
  },
  {
   "cell_type": "code",
   "execution_count": 22,
   "metadata": {},
   "outputs": [],
   "source": [
    "prepros_p2v['month']=prepros_p2v['startTime'].dt.month"
   ]
  },
  {
   "cell_type": "code",
   "execution_count": 23,
   "metadata": {},
   "outputs": [],
   "source": [
    "prepros_p2v['weekday'] = LabelEncoder().fit_transform(prepros_p2v['weekday'])"
   ]
  },
  {
   "cell_type": "code",
   "execution_count": 24,
   "metadata": {},
   "outputs": [],
   "source": [
    "prepros_p2v_f=prepros_p2v.drop(['startTime','endTime'], axis=1)"
   ]
  },
  {
   "cell_type": "code",
   "execution_count": 25,
   "metadata": {},
   "outputs": [],
   "source": [
    "####training and test split####\n",
    "\n",
    "pro_train=prepros_p2v_f[:train.shape[0]]"
   ]
  },
  {
   "cell_type": "code",
   "execution_count": 26,
   "metadata": {},
   "outputs": [],
   "source": [
    "pro_test=prepros_p2v_f[train.shape[0]:]"
   ]
  },
  {
   "cell_type": "code",
   "execution_count": 27,
   "metadata": {},
   "outputs": [],
   "source": [
    "pro_test=pro_test.drop(['session_id'],axis=1)\n",
    "pro_train=pro_train.drop(['session_id'],axis=1)"
   ]
  },
  {
   "cell_type": "code",
   "execution_count": 28,
   "metadata": {},
   "outputs": [],
   "source": [
    "X_train, X_test, y_train, y_test = train_test_split(pro_train, \n",
    "                                                    train['gender'], \n",
    "                                                    test_size=0.15, \n",
    "                                                    random_state=8)"
   ]
  },
  {
   "cell_type": "code",
   "execution_count": 29,
   "metadata": {},
   "outputs": [
    {
     "name": "stdout",
     "output_type": "stream",
     "text": [
      "SCORE: 0.8717460317460317\n"
     ]
    }
   ],
   "source": [
    "# # xgb=XGBClassifier( learning_rate =0.1, n_estimators=177, max_depth=6,\n",
    "#  min_child_weight=2, gamma=0, subsample=0.8, colsample_bytree=0.8,\n",
    "#  objective= 'binary:logistic', nthread=4, scale_pos_weight=1,seed=27)\n",
    "\n",
    "# xgb.fit(pro_train, train['gender'])\n",
    "\n",
    "clf = XGBClassifier( learning_rate =0.1, n_estimators=182, max_depth=7,\n",
    " min_child_weight=5, gamma=0.1, subsample=0.9, colsample_bytree=0.9,\n",
    " objective= 'binary:logistic', nthread=4, scale_pos_weight=1,seed=27)\n",
    "\n",
    "eval_set  = [(X_train, y_train),(X_test, y_test)]\n",
    "\n",
    "clf.fit(X_train, y_train,\n",
    "            eval_set=eval_set, eval_metric='error',verbose=0)\n",
    "\n",
    "pred = clf.predict_proba(X_test)[:,1]\n",
    "accuracy = accuracy_score(y_test, np.round(pred))\n",
    "print( \"SCORE:\", accuracy)"
   ]
  },
  {
   "cell_type": "code",
   "execution_count": 30,
   "metadata": {},
   "outputs": [],
   "source": [
    "def prep_sub(clf):\n",
    "    pred = clf.predict(pro_test)\n",
    "    Pred=pd.DataFrame(pred)\n",
    "    mapping = {0: 'female', 1: 'male'}\n",
    "    Pred=Pred.replace({0: mapping, 1: mapping})\n",
    "    submission['gender']=Pred[0]\n",
    "    submission.to_csv('submission.csv',index=False)\n",
    "    \n",
    "    \n",
    "prep_sub(clf)"
   ]
  },
  {
   "cell_type": "code",
   "execution_count": null,
   "metadata": {},
   "outputs": [],
   "source": []
  }
 ],
 "metadata": {
  "kernelspec": {
   "display_name": "Python 3",
   "language": "python",
   "name": "python3"
  },
  "language_info": {
   "codemirror_mode": {
    "name": "ipython",
    "version": 3
   },
   "file_extension": ".py",
   "mimetype": "text/x-python",
   "name": "python",
   "nbconvert_exporter": "python",
   "pygments_lexer": "ipython3",
   "version": "3.7.6"
  }
 },
 "nbformat": 4,
 "nbformat_minor": 2
}
