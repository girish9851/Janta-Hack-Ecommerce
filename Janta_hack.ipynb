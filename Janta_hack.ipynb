{
 "cells": [
  {
   "cell_type": "code",
   "execution_count": 203,
   "metadata": {},
   "outputs": [],
   "source": [
    "import pandas as pd \n",
    "import numpy as np\n",
    "import matplotlib.pyplot as plt\n",
    "from sklearn.feature_extraction.text import CountVectorizer\n",
    "from sklearn.manifold import TSNE\n",
    "from sklearn.decomposition import TruncatedSVD\n",
    "from sklearn.model_selection import train_test_split\n",
    "from sklearn.preprocessing import LabelEncoder\n",
    "from sklearn.metrics import accuracy_score\n",
    "from sklearn.linear_model import LogisticRegression\n",
    "from sklearn.ensemble import RandomForestClassifier\n",
    "from lightgbm import LGBMClassifier\n",
    "\n",
    "\n",
    "#Import libraries:\n",
    "import pandas as pd\n",
    "import numpy as np\n",
    "import xgboost as xgb\n",
    "from xgboost.sklearn import XGBClassifier\n",
    "from sklearn import metrics   #Additional scklearn functions\n",
    "from sklearn.model_selection import GridSearchCV   #Perforing grid search\n",
    "\n",
    "import matplotlib.pylab as plt\n",
    "%matplotlib inline\n",
    "from matplotlib.pylab import rcParams\n",
    "rcParams['figure.figsize'] = 12, 4"
   ]
  },
  {
   "cell_type": "code",
   "execution_count": 204,
   "metadata": {},
   "outputs": [],
   "source": [
    "# preprocessing \n",
    "\n",
    "train=pd.read_csv('train.csv')\n",
    "test=pd.read_csv('test.csv')\n",
    "submission=pd.read_csv('sample_submission.csv')\n",
    "\n",
    "prepros=train.copy()\n",
    "prepros.drop(['gender'],inplace=True,axis=1)\n",
    "prepros=prepros.append(test, ignore_index=True)   # dataframe containing test and train\n"
   ]
  },
  {
   "cell_type": "code",
   "execution_count": 205,
   "metadata": {},
   "outputs": [],
   "source": [
    " train['gender'] = LabelEncoder().fit_transform(train['gender'])"
   ]
  },
  {
   "cell_type": "code",
   "execution_count": 206,
   "metadata": {},
   "outputs": [],
   "source": [
    "ProductList_processed=[]\n",
    "ProductList_processed_bask_no=[]\n",
    "ProductList_processed_no=[]\n",
    "for i in range(prepros.shape[0]):\n",
    "    ProductList_processed.append((prepros['ProductList'][i].strip().replace(';','').replace('/',' ')))\n",
    "    ProductList_processed_no.append(len(prepros['ProductList'][i].strip().replace(';','').replace('/',' ')))\n",
    "    ProductList_processed_bask_no.append(len(list(prepros['ProductList'][i].split(';'))))"
   ]
  },
  {
   "cell_type": "code",
   "execution_count": 207,
   "metadata": {},
   "outputs": [],
   "source": [
    "prepros['ProductList_processed']=ProductList_processed\n",
    "prepros['ProductList_processed_bask_no']=ProductList_processed_bask_no\n",
    "prepros['ProductList_processed_no']=ProductList_processed_no"
   ]
  },
  {
   "cell_type": "code",
   "execution_count": 208,
   "metadata": {},
   "outputs": [],
   "source": [
    "corpus=ProductList_processed\n",
    "vectorizer = CountVectorizer()\n",
    "X = vectorizer.fit_transform(corpus)\n",
    "cols=vectorizer.get_feature_names()"
   ]
  },
  {
   "cell_type": "code",
   "execution_count": 209,
   "metadata": {},
   "outputs": [],
   "source": [
    "X_m=X.toarray()\n",
    "prod2vec=pd.DataFrame(data=X_m,\n",
    "          index=np.array(range(15000)),\n",
    "          columns=cols)"
   ]
  },
  {
   "cell_type": "code",
   "execution_count": 210,
   "metadata": {},
   "outputs": [],
   "source": [
    "svd = TruncatedSVD(n_components=50, n_iter=7, random_state=42)\n",
    "\n",
    "svd.fit(X)\n",
    "\n",
    "X_tr=svd.fit_transform(X)\n",
    "\n",
    "#X_embedded=TSNE(n_components=2).fit_transform(X_tr)"
   ]
  },
  {
   "cell_type": "code",
   "execution_count": 211,
   "metadata": {},
   "outputs": [],
   "source": [
    "#plt.scatter(X_embedded[:,0],X_embedded[:,1])"
   ]
  },
  {
   "cell_type": "code",
   "execution_count": 212,
   "metadata": {},
   "outputs": [],
   "source": [
    "prod2vec_red=pd.DataFrame(data=X_tr,\n",
    "          index=np.array(range(15000)),\n",
    "          columns=np.array(range(50)))"
   ]
  },
  {
   "cell_type": "code",
   "execution_count": 213,
   "metadata": {},
   "outputs": [],
   "source": [
    "prepros=pd.concat([prepros, prod2vec_red], axis=1, sort=False)\n",
    "prepros_p2v=prepros.copy()"
   ]
  },
  {
   "cell_type": "code",
   "execution_count": 214,
   "metadata": {},
   "outputs": [],
   "source": [
    "prepros_p2v.drop(['ProductList','ProductList_processed'],inplace=True,axis=1)"
   ]
  },
  {
   "cell_type": "code",
   "execution_count": 215,
   "metadata": {},
   "outputs": [],
   "source": [
    "prepros_p2v['startTime']=pd.to_datetime(prepros_p2v['startTime'])\n",
    "prepros_p2v['endTime']=pd.to_datetime(prepros_p2v['endTime'])"
   ]
  },
  {
   "cell_type": "code",
   "execution_count": 216,
   "metadata": {},
   "outputs": [],
   "source": [
    "prepros_p2v['duration']=(prepros_p2v['endTime']-prepros_p2v['startTime']).astype('timedelta64[m]')"
   ]
  },
  {
   "cell_type": "code",
   "execution_count": 217,
   "metadata": {},
   "outputs": [],
   "source": [
    "prepros_p2v['hour']=prepros_p2v['startTime'].dt.hour"
   ]
  },
  {
   "cell_type": "code",
   "execution_count": 218,
   "metadata": {},
   "outputs": [],
   "source": [
    "prepros_p2v['weekday']=(prepros_p2v['startTime'].dt.weekday_name).astype('category')"
   ]
  },
  {
   "cell_type": "code",
   "execution_count": 219,
   "metadata": {},
   "outputs": [],
   "source": [
    "prepros_p2v['day']=prepros_p2v['startTime'].dt.day"
   ]
  },
  {
   "cell_type": "code",
   "execution_count": 220,
   "metadata": {},
   "outputs": [],
   "source": [
    "prepros_p2v['month']=prepros_p2v['startTime'].dt.month"
   ]
  },
  {
   "cell_type": "code",
   "execution_count": 307,
   "metadata": {},
   "outputs": [],
   "source": [
    "prepros_p2v['weekday'] = LabelEncoder().fit_transform(prepros_p2v['weekday'])"
   ]
  },
  {
   "cell_type": "code",
   "execution_count": 308,
   "metadata": {},
   "outputs": [],
   "source": [
    "prepros_p2v_f=prepros_p2v.drop(['startTime','endTime'], axis=1)"
   ]
  },
  {
   "cell_type": "code",
   "execution_count": 309,
   "metadata": {},
   "outputs": [],
   "source": [
    "####training and test split####\n",
    "\n",
    "pro_train=prepros_p2v_f[:train.shape[0]]"
   ]
  },
  {
   "cell_type": "code",
   "execution_count": 310,
   "metadata": {},
   "outputs": [],
   "source": [
    "pro_test=prepros_p2v_f[train.shape[0]:]"
   ]
  },
  {
   "cell_type": "code",
   "execution_count": 311,
   "metadata": {},
   "outputs": [],
   "source": [
    "pro_test=pro_test.drop(['session_id'],axis=1)\n",
    "pro_train=pro_train.drop(['session_id'],axis=1)"
   ]
  },
  {
   "cell_type": "code",
   "execution_count": 312,
   "metadata": {},
   "outputs": [],
   "source": [
    "X_train, X_test, y_train, y_test = train_test_split(pro_train, \n",
    "                                                    train['gender'], \n",
    "                                                    test_size=0.15, \n",
    "                                                    random_state=8)"
   ]
  },
  {
   "cell_type": "code",
   "execution_count": 291,
   "metadata": {},
   "outputs": [
    {
     "name": "stdout",
     "output_type": "stream",
     "text": [
      "SCORE: 0.8717460317460317\n",
      "SCORE: 0.8717460317460317\n",
      "SCORE: 0.873015873015873\n",
      "SCORE: 0.873015873015873\n",
      "SCORE: 0.873015873015873\n",
      "SCORE: 0.873015873015873\n",
      "SCORE: 0.8704761904761905\n",
      "SCORE: 0.8704761904761905\n",
      "SCORE: 0.8717460317460317\n",
      "SCORE: 0.8717460317460317\n",
      "SCORE: 0.8698412698412699\n",
      "SCORE: 0.8698412698412699\n"
     ]
    }
   ],
   "source": [
    "# # xgb=XGBClassifier( learning_rate =0.1, n_estimators=177, max_depth=6,\n",
    "#  min_child_weight=2, gamma=0, subsample=0.8, colsample_bytree=0.8,\n",
    "#  objective= 'binary:logistic', nthread=4, scale_pos_weight=1,seed=27)\n",
    "\n",
    "# xgb.fit(pro_train, train['gender'])\n",
    "for i in [180,190,200,210,220,230]:\n",
    "    clf = XGBClassifier( learning_rate =0.1, n_estimators=i, max_depth=7,\n",
    " min_child_weight=5, gamma=.106, subsample=0.9, colsample_bytree=0.9,\n",
    " objective= 'binary:logistic', nthread=4, scale_pos_weight=1,seed=27)\n",
    "\n",
    "    eval_set  = [(X_train, y_train),(X_test, y_test)]\n",
    "\n",
    "    clf.fit(X_train, y_train,\n",
    "            eval_set=eval_set, eval_metric='error',verbose=0)\n",
    "\n",
    "    pred = clf.predict_proba(X_test)[:,1]\n",
    "    accuracy = accuracy_score(y_test, np.round(pred))\n",
    "    print( \"SCORE:\", accuracy)\n",
    "    prep_sub(clf)"
   ]
  },
  {
   "cell_type": "code",
   "execution_count": 269,
   "metadata": {},
   "outputs": [
    {
     "data": {
      "image/png": "[encoded data removed]",
      "text/plain": [
       "<Figure size 864x288 with 1 Axes>"
      ]
     },
     "metadata": {
      "needs_background": "light"
     },
     "output_type": "display_data"
    },
    {
     "data": {
      "image/png": "[encoded data removed]",
      "text/plain": [
       "<Figure size 864x288 with 1 Axes>"
      ]
     },
     "metadata": {
      "needs_background": "light"
     },
     "output_type": "display_data"
    }
   ],
   "source": [
    "import scikitplot as skplt\n",
    "import matplotlib.pyplot as plt\n",
    "# ground truth labels\n",
    "y_probas = clf.predict_proba(X_test)# predicted probabilities generated by sklearn classifier\n",
    "skplt.metrics.plot_roc_curve(y_test, y_probas)\n",
    "plt.show()"
   ]
  },
  {
   "cell_type": "code",
   "execution_count": 267,
   "metadata": {},
   "outputs": [
    {
     "data": {
      "text/plain": [
       "array([0, 0, 0, ..., 0, 0, 0])"
      ]
     },
     "execution_count": 267,
     "metadata": {},
     "output_type": "execute_result"
    },
    {
     "data": {
      "text/plain": [
       "array([0, 0, 0, ..., 0, 0, 0])"
      ]
     },
     "execution_count": 267,
     "metadata": {},
     "output_type": "execute_result"
    }
   ],
   "source": [
    "np.array(y_test)\n"
   ]
  },
  {
   "cell_type": "code",
   "execution_count": 260,
   "metadata": {},
   "outputs": [
    {
     "name": "stdout",
     "output_type": "stream",
     "text": [
      "Collecting scikit-plot\n",
      "Collecting scikit-plot\n",
      "  Downloading scikit_plot-0.3.7-py3-none-any.whl (33 kB)\n",
      "  Downloading scikit_plot-0.3.7-py3-none-any.whl (33 kB)\n",
      "Requirement already satisfied: scikit-learn>=0.18 in /anaconda3/lib/python3.7/site-packages (from scikit-plot) (0.22.2.post1)\n",
      "Requirement already satisfied: scikit-learn>=0.18 in /anaconda3/lib/python3.7/site-packages (from scikit-plot) (0.22.2.post1)\n",
      "Requirement already satisfied: scipy>=0.9 in /anaconda3/lib/python3.7/site-packages (from scikit-plot) (1.3.0)\n",
      "Requirement already satisfied: matplotlib>=1.4.0 in /anaconda3/lib/python3.7/site-packages (from scikit-plot) (3.1.0)\n",
      "Requirement already satisfied: joblib>=0.10 in /anaconda3/lib/python3.7/site-packages (from scikit-plot) (0.13.2)\n",
      "Requirement already satisfied: numpy>=1.11.0 in /anaconda3/lib/python3.7/site-packages (from scikit-learn>=0.18->scikit-plot) (1.16.4)\n",
      "Requirement already satisfied: cycler>=0.10 in /anaconda3/lib/python3.7/site-packages (from matplotlib>=1.4.0->scikit-plot) (0.10.0)\n",
      "Requirement already satisfied: kiwisolver>=1.0.1 in /anaconda3/lib/python3.7/site-packages (from matplotlib>=1.4.0->scikit-plot) (1.1.0)\n",
      "Requirement already satisfied: scipy>=0.9 in /anaconda3/lib/python3.7/site-packages (from scikit-plot) (1.3.0)\n",
      "Requirement already satisfied: matplotlib>=1.4.0 in /anaconda3/lib/python3.7/site-packages (from scikit-plot) (3.1.0)\n",
      "Requirement already satisfied: joblib>=0.10 in /anaconda3/lib/python3.7/site-packages (from scikit-plot) (0.13.2)\n",
      "Requirement already satisfied: numpy>=1.11.0 in /anaconda3/lib/python3.7/site-packages (from scikit-learn>=0.18->scikit-plot) (1.16.4)\n",
      "Requirement already satisfied: cycler>=0.10 in /anaconda3/lib/python3.7/site-packages (from matplotlib>=1.4.0->scikit-plot) (0.10.0)\n",
      "Requirement already satisfied: kiwisolver>=1.0.1 in /anaconda3/lib/python3.7/site-packages (from matplotlib>=1.4.0->scikit-plot) (1.1.0)\n",
      "Requirement already satisfied: pyparsing!=2.0.4,!=2.1.2,!=2.1.6,>=2.0.1 in /anaconda3/lib/python3.7/site-packages (from matplotlib>=1.4.0->scikit-plot) (2.4.0)\n",
      "Requirement already satisfied: python-dateutil>=2.1 in /anaconda3/lib/python3.7/site-packages (from matplotlib>=1.4.0->scikit-plot) (2.8.0)\n",
      "Requirement already satisfied: six in /anaconda3/lib/python3.7/site-packages (from cycler>=0.10->matplotlib>=1.4.0->scikit-plot) (1.12.0)\n",
      "Requirement already satisfied: setuptools in /anaconda3/lib/python3.7/site-packages (from kiwisolver>=1.0.1->matplotlib>=1.4.0->scikit-plot) (41.6.0)\n",
      "Requirement already satisfied: pyparsing!=2.0.4,!=2.1.2,!=2.1.6,>=2.0.1 in /anaconda3/lib/python3.7/site-packages (from matplotlib>=1.4.0->scikit-plot) (2.4.0)\n",
      "Requirement already satisfied: python-dateutil>=2.1 in /anaconda3/lib/python3.7/site-packages (from matplotlib>=1.4.0->scikit-plot) (2.8.0)\n",
      "Requirement already satisfied: six in /anaconda3/lib/python3.7/site-packages (from cycler>=0.10->matplotlib>=1.4.0->scikit-plot) (1.12.0)\n",
      "Requirement already satisfied: setuptools in /anaconda3/lib/python3.7/site-packages (from kiwisolver>=1.0.1->matplotlib>=1.4.0->scikit-plot) (41.6.0)\n",
      "Installing collected packages: scikit-plot\n",
      "Installing collected packages: scikit-plot\n",
      "Successfully installed scikit-plot-0.3.7\n",
      "Successfully installed scikit-plot-0.3.7\n",
      "Note: you may need to restart the kernel to use updated packages.\n",
      "Note: you may need to restart the kernel to use updated packages.\n"
     ]
    }
   ],
   "source": [
    "pip install scikit-plot"
   ]
  },
  {
   "cell_type": "code",
   "execution_count": 104,
   "metadata": {},
   "outputs": [],
   "source": [
    "def prep_sub(clf):\n",
    "    pred = clf.predict(pro_test)\n",
    "    Pred=pd.DataFrame(pred)\n",
    "    mapping = {0: 'female', 1: 'male'}\n",
    "    Pred=Pred.replace({0: mapping, 1: mapping})\n",
    "    submission['gender']=Pred[0]\n",
    "    submission.to_csv('submission.csv',index=False)"
   ]
  },
  {
   "cell_type": "code",
   "execution_count": 231,
   "metadata": {},
   "outputs": [],
   "source": []
  },
  {
   "cell_type": "code",
   "execution_count": 126,
   "metadata": {},
   "outputs": [
    {
     "name": "stderr",
     "output_type": "stream",
     "text": [
      "//anaconda3/lib/python3.7/site-packages/sklearn/model_selection/_search.py:823: FutureWarning: The parameter 'iid' is deprecated in 0.22 and will be removed in 0.24.\n",
      "  \"removed in 0.24.\", FutureWarning\n",
      "//anaconda3/lib/python3.7/site-packages/sklearn/model_selection/_search.py:823: FutureWarning: The parameter 'iid' is deprecated in 0.22 and will be removed in 0.24.\n",
      "  \"removed in 0.24.\", FutureWarning\n"
     ]
    },
    {
     "data": {
      "text/plain": [
       "({'max_depth': 5, 'min_child_weight': 1}, 0.8443009485694576)"
      ]
     },
     "execution_count": 126,
     "metadata": {},
     "output_type": "execute_result"
    },
    {
     "data": {
      "text/plain": [
       "({'max_depth': 5, 'min_child_weight': 1}, 0.8443009485694576)"
      ]
     },
     "execution_count": 126,
     "metadata": {},
     "output_type": "execute_result"
    }
   ],
   "source": [
    "param_test1 = {\n",
    " 'max_depth':range(3,10,2),\n",
    " 'min_child_weight':range(1,6,2)\n",
    "}\n",
    "\n",
    "gsearch1 = GridSearchCV(estimator = XGBClassifier( learning_rate =0.1, n_estimators=166, max_depth=5,\n",
    "min_child_weight=1, gamma=0, subsample=0.8, colsample_bytree=0.8,\n",
    "objective= 'binary:logistic', nthread=4, scale_pos_weight=1, seed=27),\n",
    "                        \n",
    "param_grid = param_test1, scoring='roc_auc',n_jobs=4,iid=False, cv=3)\n",
    "gsearch1.fit(pro_train,train['gender'])\n",
    "gsearch1.best_params_, gsearch1.best_score_"
   ]
  },
  {
   "cell_type": "code",
   "execution_count": 127,
   "metadata": {},
   "outputs": [
    {
     "name": "stderr",
     "output_type": "stream",
     "text": [
      "//anaconda3/lib/python3.7/site-packages/sklearn/model_selection/_search.py:823: FutureWarning: The parameter 'iid' is deprecated in 0.22 and will be removed in 0.24.\n",
      "  \"removed in 0.24.\", FutureWarning\n",
      "//anaconda3/lib/python3.7/site-packages/sklearn/model_selection/_search.py:823: FutureWarning: The parameter 'iid' is deprecated in 0.22 and will be removed in 0.24.\n",
      "  \"removed in 0.24.\", FutureWarning\n"
     ]
    },
    {
     "data": {
      "text/plain": [
       "({'gamma': 0.1}, 0.8444350146241476)"
      ]
     },
     "execution_count": 127,
     "metadata": {},
     "output_type": "execute_result"
    },
    {
     "data": {
      "text/plain": [
       "({'gamma': 0.1}, 0.8444350146241476)"
      ]
     },
     "execution_count": 127,
     "metadata": {},
     "output_type": "execute_result"
    }
   ],
   "source": [
    "param_test3 = {\n",
    " 'gamma':[i/10.0 for i in range(0,5)]\n",
    "}\n",
    "gsearch3 = GridSearchCV(estimator = XGBClassifier( learning_rate =0.1, n_estimators=166, max_depth=5,\n",
    " min_child_weight=1, gamma=0, subsample=0.8, colsample_bytree=0.8,\n",
    " objective= 'binary:logistic', nthread=4, scale_pos_weight=1,seed=27), \n",
    " param_grid = param_test3, scoring='roc_auc',n_jobs=4,iid=False, cv=3)\n",
    "gsearch3.fit(pro_train,train['gender'])\n",
    "gsearch3.best_params_, gsearch3.best_score_"
   ]
  },
  {
   "cell_type": "code",
   "execution_count": 128,
   "metadata": {},
   "outputs": [],
   "source": [
    "def modelfit(alg, dtrain, predictors,useTrainCV=True, cv_folds=3, early_stopping_rounds=50):\n",
    "    \n",
    "    if useTrainCV:\n",
    "        xgb_param = alg.get_xgb_params()\n",
    "        xgtrain = xgb.DMatrix(dtrain[predictors].values, label=train['gender'])\n",
    "        cvresult = xgb.cv(xgb_param, xgtrain, num_boost_round=alg.get_params()['n_estimators'], nfold=cv_folds,\n",
    "            metrics='auc', early_stopping_rounds=early_stopping_rounds)\n",
    "        alg.set_params(n_estimators=cvresult.shape[0])\n",
    "    \n",
    "    #Fit the algorithm on the data\n",
    "    alg.fit(dtrain[predictors], train['gender'],eval_metric='auc')\n",
    "        \n",
    "    #Predict training set:\n",
    "    dtrain_predictions = alg.predict(dtrain[predictors])\n",
    "    dtrain_predprob = alg.predict_proba(dtrain[predictors])[:,1]\n",
    "        \n",
    "    #Print model report:\n",
    "    print(\"\\nModel Report\")\n",
    "    print(\"Accuracy : %.4g\" % metrics.accuracy_score(train['gender'].values, dtrain_predictions))\n",
    "    print(\"AUC Score (Train): %f\" % metrics.roc_auc_score(train['gender'], dtrain_predprob))\n",
    "                    \n",
    "    feat_imp = pd.Series(alg.get_booster().get_fscore()).sort_values(ascending=False)\n",
    "    feat_imp.plot(kind='bar', title='Feature Importances')\n",
    "    plt.ylabel('Feature Importance Score')"
   ]
  },
  {
   "cell_type": "code",
   "execution_count": 129,
   "metadata": {},
   "outputs": [
    {
     "name": "stderr",
     "output_type": "stream",
     "text": [
      "//anaconda3/lib/python3.7/site-packages/xgboost/core.py:587: FutureWarning: Series.base is deprecated and will be removed in a future version\n",
      "  if getattr(data, 'base', None) is not None and \\\n",
      "//anaconda3/lib/python3.7/site-packages/xgboost/core.py:588: FutureWarning: Series.base is deprecated and will be removed in a future version\n",
      "  data.base is not None and isinstance(data, np.ndarray) \\\n",
      "//anaconda3/lib/python3.7/site-packages/xgboost/core.py:587: FutureWarning: Series.base is deprecated and will be removed in a future version\n",
      "  if getattr(data, 'base', None) is not None and \\\n",
      "//anaconda3/lib/python3.7/site-packages/xgboost/core.py:588: FutureWarning: Series.base is deprecated and will be removed in a future version\n",
      "  data.base is not None and isinstance(data, np.ndarray) \\\n"
     ]
    },
    {
     "name": "stdout",
     "output_type": "stream",
     "text": [
      "\n",
      "Model Report\n",
      "Accuracy : 0.9121\n",
      "AUC Score (Train): 0.958083\n",
      "\n",
      "Model Report\n",
      "Accuracy : 0.9121\n",
      "AUC Score (Train): 0.958083\n"
     ]
    },
    {
     "data": {
      "image/png": "[encoded data removed]",
      "text/plain": [
       "<Figure size 432x288 with 1 Axes>"
      ]
     },
     "metadata": {
      "needs_background": "light"
     },
     "output_type": "display_data"
    },
    {
     "data": {
      "image/png": "[encoded data removed]",
      "text/plain": [
       "<Figure size 432x288 with 1 Axes>"
      ]
     },
     "metadata": {
      "needs_background": "light"
     },
     "output_type": "display_data"
    }
   ],
   "source": [
    "xgb2 = XGBClassifier(\n",
    " learning_rate =0.1,\n",
    " n_estimators=166,\n",
    " max_depth=5,\n",
    " min_child_weight=1,\n",
    " gamma=0.1,\n",
    " subsample=0.8,\n",
    " colsample_bytree=0.8,\n",
    " objective= 'binary:logistic',\n",
    " nthread=4,\n",
    " scale_pos_weight=1,\n",
    " seed=27)\n",
    "\n",
    "predictors = [x for x in pro_train.columns]\n",
    "\n",
    "modelfit(xgb2, pro_train, predictors)"
   ]
  },
  {
   "cell_type": "code",
   "execution_count": 130,
   "metadata": {},
   "outputs": [
    {
     "name": "stderr",
     "output_type": "stream",
     "text": [
      "//anaconda3/lib/python3.7/site-packages/sklearn/model_selection/_search.py:823: FutureWarning: The parameter 'iid' is deprecated in 0.22 and will be removed in 0.24.\n",
      "  \"removed in 0.24.\", FutureWarning\n",
      "//anaconda3/lib/python3.7/site-packages/sklearn/model_selection/_search.py:823: FutureWarning: The parameter 'iid' is deprecated in 0.22 and will be removed in 0.24.\n",
      "  \"removed in 0.24.\", FutureWarning\n"
     ]
    },
    {
     "data": {
      "text/plain": [
       "({'colsample_bytree': 0.6, 'subsample': 0.9}, 0.8466893746136906)"
      ]
     },
     "execution_count": 130,
     "metadata": {},
     "output_type": "execute_result"
    },
    {
     "data": {
      "text/plain": [
       "({'colsample_bytree': 0.6, 'subsample': 0.9}, 0.8466893746136906)"
      ]
     },
     "execution_count": 130,
     "metadata": {},
     "output_type": "execute_result"
    }
   ],
   "source": [
    "param_test4 = {\n",
    " 'subsample':[i/10.0 for i in range(6,10)],\n",
    " 'colsample_bytree':[i/10.0 for i in range(6,10)]\n",
    "}\n",
    "\n",
    "gsearch4 = GridSearchCV(estimator = XGBClassifier( learning_rate =0.1, n_estimators=166, max_depth=5,\n",
    " min_child_weight=1, gamma=0.1, subsample=0.8, colsample_bytree=0.8,\n",
    " objective= 'binary:logistic', nthread=4, scale_pos_weight=1,seed=27), \n",
    " param_grid = param_test4, scoring='roc_auc',n_jobs=4,iid=False, cv=3)\n",
    "\n",
    "gsearch4.fit(pro_train,train['gender'])\n",
    "\n",
    "gsearch4.best_params_, gsearch4.best_score_"
   ]
  },
  {
   "cell_type": "code",
   "execution_count": 131,
   "metadata": {},
   "outputs": [
    {
     "name": "stderr",
     "output_type": "stream",
     "text": [
      "//anaconda3/lib/python3.7/site-packages/sklearn/model_selection/_search.py:823: FutureWarning: The parameter 'iid' is deprecated in 0.22 and will be removed in 0.24.\n",
      "  \"removed in 0.24.\", FutureWarning\n",
      "//anaconda3/lib/python3.7/site-packages/sklearn/model_selection/_search.py:823: FutureWarning: The parameter 'iid' is deprecated in 0.22 and will be removed in 0.24.\n",
      "  \"removed in 0.24.\", FutureWarning\n"
     ]
    },
    {
     "data": {
      "text/plain": [
       "({'reg_alpha': 1e-05}, 0.8466892158940377)"
      ]
     },
     "execution_count": 131,
     "metadata": {},
     "output_type": "execute_result"
    },
    {
     "data": {
      "text/plain": [
       "({'reg_alpha': 1e-05}, 0.8466892158940377)"
      ]
     },
     "execution_count": 131,
     "metadata": {},
     "output_type": "execute_result"
    }
   ],
   "source": [
    "param_test6 = {\n",
    " 'reg_alpha':[1e-5, 1e-2, 0.1, 1, 100]\n",
    "}\n",
    "\n",
    "gsearch6 = GridSearchCV(estimator = XGBClassifier( learning_rate =0.1, n_estimators=166, max_depth=5,\n",
    " min_child_weight=1, gamma=0.1, subsample=0.9, colsample_bytree=0.6,\n",
    " objective= 'binary:logistic', nthread=4, scale_pos_weight=1,seed=27), \n",
    " param_grid = param_test6, scoring='roc_auc',n_jobs=4,iid=False, cv=3)\n",
    "\n",
    "gsearch6.fit(pro_train,train['gender'])\n",
    "gsearch6.best_params_, gsearch6.best_score_"
   ]
  },
  {
   "cell_type": "code",
   "execution_count": 464,
   "metadata": {},
   "outputs": [
    {
     "name": "stderr",
     "output_type": "stream",
     "text": [
      "//anaconda3/lib/python3.7/site-packages/sklearn/ensemble/forest.py:245: FutureWarning: The default value of n_estimators will change from 10 in version 0.20 to 100 in 0.22.\n",
      "  \"10 in version 0.20 to 100 in 0.22.\", FutureWarning)\n",
      "//anaconda3/lib/python3.7/site-packages/sklearn/ensemble/forest.py:245: FutureWarning: The default value of n_estimators will change from 10 in version 0.20 to 100 in 0.22.\n",
      "  \"10 in version 0.20 to 100 in 0.22.\", FutureWarning)\n",
      "//anaconda3/lib/python3.7/site-packages/sklearn/linear_model/logistic.py:432: FutureWarning: Default solver will be changed to 'lbfgs' in 0.22. Specify a solver to silence this warning.\n",
      "  FutureWarning)\n",
      "//anaconda3/lib/python3.7/site-packages/sklearn/linear_model/logistic.py:432: FutureWarning: Default solver will be changed to 'lbfgs' in 0.22. Specify a solver to silence this warning.\n",
      "  FutureWarning)\n"
     ]
    }
   ],
   "source": [
    "#### stacking trials #####\n",
    "\n",
    "rf=RandomForestClassifier()\n",
    "\n",
    "clf_rf=rf.fit(pro_train,train['gender'])\n",
    "\n",
    "lr=LogisticRegression()\n",
    "\n",
    "clf_lr=lr.fit(pro_train,train['gender'])\n",
    "\n",
    "lgb=LGBMClassifier()\n",
    "\n",
    "clf_lgb=lgb.fit(pro_train,train['gender'])"
   ]
  },
  {
   "cell_type": "code",
   "execution_count": 305,
   "metadata": {},
   "outputs": [],
   "source": [
    "def prep_en_sub(clf_l):\n",
    "    pred=[]\n",
    "    for clf in clf_l:\n",
    "        pred.append(np.round(clf.predict(pro_test)))\n",
    "    Pred=pd.DataFrame(pred).T\n",
    "    Pred_en=pd.DataFrame(Pred.mode(axis=1)[0])\n",
    "    mapping = {0: 'female', 1: 'male'}\n",
    "    Pred_en=pd.DataFrame(Pred_en.replace({0: mapping, 1: mapping}))\n",
    "    submission['gender']=Pred_en\n",
    "    print(submission.head())\n",
    "    submission.to_csv('submission.csv',index=False)"
   ]
  },
  {
   "cell_type": "code",
   "execution_count": 287,
   "metadata": {},
   "outputs": [
    {
     "name": "stdout",
     "output_type": "stream",
     "text": [
      "  session_id  gender\n",
      "0     u12112  female\n",
      "1     u19725  female\n",
      "2     u11795  female\n",
      "3     u22639  female\n",
      "4     u18034  female\n",
      "  session_id  gender\n",
      "0     u12112  female\n",
      "1     u19725  female\n",
      "2     u11795  female\n",
      "3     u22639  female\n",
      "4     u18034  female\n"
     ]
    }
   ],
   "source": [
    "clf_l=[clf,clf_lr,clf_rf,clf_lgb]\n",
    "\n",
    "prep_en_sub(clf_l)"
   ]
  },
  {
   "cell_type": "code",
   "execution_count": 289,
   "metadata": {},
   "outputs": [],
   "source": [
    "lgb=LGBMClassifier()\n",
    "\n",
    "clf_lgb=lgb.fit(pro_train,train['gender'])\n",
    "\n",
    "prep_sub(clf_lgb)\n"
   ]
  },
  {
   "cell_type": "code",
   "execution_count": 291,
   "metadata": {},
   "outputs": [
    {
     "data": {
      "text/plain": [
       "(10500, 106)"
      ]
     },
     "execution_count": 291,
     "metadata": {},
     "output_type": "execute_result"
    },
    {
     "data": {
      "text/plain": [
       "(10500, 106)"
      ]
     },
     "execution_count": 291,
     "metadata": {},
     "output_type": "execute_result"
    }
   ],
   "source": [
    "pro_train.shape"
   ]
  },
  {
   "cell_type": "code",
   "execution_count": 331,
   "metadata": {},
   "outputs": [
    {
     "name": "stdout",
     "output_type": "stream",
     "text": [
      "Train on 9450 samples, validate on 1050 samples\n",
      "Train on 9450 samples, validate on 1050 samples\n",
      "Epoch 1/30\n",
      "Epoch 1/30\n",
      "9450/9450 [==============================] - 1s 149us/step - loss: 2.3696 - accuracy: 0.7668 - val_loss: 0.5706 - val_accuracy: 0.7857\n",
      "9450/9450 [==============================] - 1s 149us/step - loss: 2.3696 - accuracy: 0.7668 - val_loss: 0.5706 - val_accuracy: 0.7857\n",
      "Epoch 2/30\n",
      "  20/9450 [..............................] - ETA: 1s - loss: 0.3680 - accuracy: 0.9000Epoch 2/30\n",
      "9450/9450 [==============================] - 1s 114us/step - loss: 1.1855 - accuracy: 0.7793 - val_loss: 0.5704 - val_accuracy: 0.7857\n",
      "9450/9450 [==============================] - 1s 114us/step - loss: 1.1855 - accuracy: 0.7793 - val_loss: 0.5704 - val_accuracy: 0.7857\n",
      "Epoch 3/30\n",
      "  20/9450 [..............................] - ETA: 1s - loss: 0.5550 - accuracy: 0.7500Epoch 3/30\n",
      "9450/9450 [==============================] - 1s 113us/step - loss: 0.6630 - accuracy: 0.7822 - val_loss: 0.5169 - val_accuracy: 0.7886\n",
      "9450/9450 [==============================] - 1s 113us/step - loss: 0.6630 - accuracy: 0.7822 - val_loss: 0.5169 - val_accuracy: 0.7886\n",
      "Epoch 4/30\n",
      "  20/9450 [..............................] - ETA: 1s - loss: 0.3355 - accuracy: 0.8500Epoch 4/30\n",
      "9450/9450 [==============================] - 1s 117us/step - loss: 0.6870 - accuracy: 0.7966 - val_loss: 0.4992 - val_accuracy: 0.8029\n",
      "9450/9450 [==============================] - 1s 117us/step - loss: 0.6870 - accuracy: 0.7966 - val_loss: 0.4992 - val_accuracy: 0.8029\n",
      "Epoch 5/30\n",
      "  20/9450 [..............................] - ETA: 1s - loss: 0.4494 - accuracy: 0.8000Epoch 5/30\n",
      "9450/9450 [==============================] - 1s 124us/step - loss: 0.7287 - accuracy: 0.8177 - val_loss: 0.4422 - val_accuracy: 0.8210\n",
      "9450/9450 [==============================] - 1s 124us/step - loss: 0.7287 - accuracy: 0.8177 - val_loss: 0.4422 - val_accuracy: 0.8210\n",
      "Epoch 6/30\n",
      "  20/9450 [..............................] - ETA: 4s - loss: 0.4726 - accuracy: 0.8000Epoch 6/30\n",
      "9450/9450 [==============================] - 1s 130us/step - loss: 0.6401 - accuracy: 0.8272 - val_loss: 0.5547 - val_accuracy: 0.8362\n",
      "9450/9450 [==============================] - 1s 130us/step - loss: 0.6401 - accuracy: 0.8272 - val_loss: 0.5547 - val_accuracy: 0.8362\n",
      "Epoch 7/30\n",
      "Epoch 7/30\n",
      "9450/9450 [==============================] - 1s 124us/step - loss: 0.7667 - accuracy: 0.8466 - val_loss: 0.7524 - val_accuracy: 0.8448\n",
      "9450/9450 [==============================] - 1s 124us/step - loss: 0.7667 - accuracy: 0.8466 - val_loss: 0.7524 - val_accuracy: 0.8448\n",
      "Epoch 8/30\n",
      "  20/9450 [..............................] - ETA: 8s - loss: 0.5919 - accuracy: 0.7000Epoch 8/30\n",
      "9450/9450 [==============================] - 1s 158us/step - loss: 0.5874 - accuracy: 0.8605 - val_loss: 0.4117 - val_accuracy: 0.8457\n",
      "9450/9450 [==============================] - 1s 158us/step - loss: 0.5874 - accuracy: 0.8605 - val_loss: 0.4117 - val_accuracy: 0.8457\n",
      "Epoch 9/30\n",
      "Epoch 9/30\n",
      "9450/9450 [==============================] - 1s 130us/step - loss: 0.5721 - accuracy: 0.8634 - val_loss: 0.4207 - val_accuracy: 0.8581\n",
      "9450/9450 [==============================] - 1s 130us/step - loss: 0.5721 - accuracy: 0.8634 - val_loss: 0.4207 - val_accuracy: 0.8581\n",
      "Epoch 10/30\n",
      "  20/9450 [..............................] - ETA: 1s - loss: 0.1131 - accuracy: 1.0000Epoch 10/30\n",
      "9450/9450 [==============================] - 1s 119us/step - loss: 0.6596 - accuracy: 0.8650 - val_loss: 0.4025 - val_accuracy: 0.8610\n",
      "9450/9450 [==============================] - 1s 119us/step - loss: 0.6596 - accuracy: 0.8650 - val_loss: 0.4025 - val_accuracy: 0.8610\n",
      "Epoch 11/30\n",
      "  20/9450 [..............................] - ETA: 1s - loss: 0.3782 - accuracy: 0.8000Epoch 11/30\n",
      "9450/9450 [==============================] - 1s 121us/step - loss: 0.6127 - accuracy: 0.8659 - val_loss: 0.9973 - val_accuracy: 0.8571\n",
      "9450/9450 [==============================] - 1s 121us/step - loss: 0.6127 - accuracy: 0.8659 - val_loss: 0.9973 - val_accuracy: 0.8571\n",
      "Epoch 12/30\n",
      "  20/9450 [..............................] - ETA: 1s - loss: 0.7320 - accuracy: 0.8000Epoch 12/30\n",
      "9450/9450 [==============================] - 1s 124us/step - loss: 0.5123 - accuracy: 0.8673 - val_loss: 0.5033 - val_accuracy: 0.8648\n",
      "9450/9450 [==============================] - 1s 124us/step - loss: 0.5123 - accuracy: 0.8673 - val_loss: 0.5033 - val_accuracy: 0.8648\n",
      "Epoch 13/30\n",
      "  20/9450 [..............................] - ETA: 1s - loss: 0.6415 - accuracy: 0.7000Epoch 13/30\n",
      "9450/9450 [==============================] - 1s 118us/step - loss: 0.6443 - accuracy: 0.8671 - val_loss: 0.4290 - val_accuracy: 0.8600\n",
      "9450/9450 [==============================] - 1s 118us/step - loss: 0.6443 - accuracy: 0.8671 - val_loss: 0.4290 - val_accuracy: 0.8600\n",
      "Epoch 14/30\n",
      "  20/9450 [..............................] - ETA: 1s - loss: 0.4555 - accuracy: 0.8000Epoch 14/30\n",
      "9450/9450 [==============================] - 1s 124us/step - loss: 0.5734 - accuracy: 0.8675 - val_loss: 0.3841 - val_accuracy: 0.8619\n",
      "9450/9450 [==============================] - 1s 124us/step - loss: 0.5734 - accuracy: 0.8675 - val_loss: 0.3841 - val_accuracy: 0.8619\n",
      "Epoch 15/30\n",
      "Epoch 15/30\n",
      "9450/9450 [==============================] - 1s 120us/step - loss: 0.5453 - accuracy: 0.8687 - val_loss: 0.5923 - val_accuracy: 0.8600\n",
      "9450/9450 [==============================] - 1s 120us/step - loss: 0.5453 - accuracy: 0.8687 - val_loss: 0.5923 - val_accuracy: 0.8600\n",
      "Epoch 16/30\n",
      "  20/9450 [..............................] - ETA: 2s - loss: 0.4040 - accuracy: 0.9000Epoch 16/30\n",
      "9450/9450 [==============================] - 1s 116us/step - loss: 0.6340 - accuracy: 0.8694 - val_loss: 0.5021 - val_accuracy: 0.8638\n",
      "9450/9450 [==============================] - 1s 116us/step - loss: 0.6340 - accuracy: 0.8694 - val_loss: 0.5021 - val_accuracy: 0.8638\n",
      "Epoch 17/30\n",
      "  20/9450 [..............................] - ETA: 1s - loss: 0.5633 - accuracy: 0.7500Epoch 17/30\n",
      "9450/9450 [==============================] - 1s 117us/step - loss: 0.5349 - accuracy: 0.8683 - val_loss: 0.4064 - val_accuracy: 0.8619\n",
      "9450/9450 [==============================] - 1s 117us/step - loss: 0.5349 - accuracy: 0.8683 - val_loss: 0.4064 - val_accuracy: 0.8619\n",
      "Epoch 18/30\n",
      "  20/9450 [..............................] - ETA: 1s - loss: 0.4255 - accuracy: 0.9000Epoch 18/30\n",
      "9450/9450 [==============================] - 1s 124us/step - loss: 0.5180 - accuracy: 0.8685 - val_loss: 0.3943 - val_accuracy: 0.8648\n",
      "9450/9450 [==============================] - 1s 124us/step - loss: 0.5180 - accuracy: 0.8685 - val_loss: 0.3943 - val_accuracy: 0.8648\n",
      "Epoch 19/30\n",
      "  20/9450 [..............................] - ETA: 2s - loss: 0.5278 - accuracy: 0.8500Epoch 19/30\n",
      "9450/9450 [==============================] - 1s 139us/step - loss: 0.4833 - accuracy: 0.8696 - val_loss: 0.4951 - val_accuracy: 0.8648\n",
      "9450/9450 [==============================] - 1s 139us/step - loss: 0.4833 - accuracy: 0.8696 - val_loss: 0.4951 - val_accuracy: 0.8648\n",
      "Epoch 20/30\n",
      "  20/9450 [..............................] - ETA: 1s - loss: 0.5504 - accuracy: 0.7500Epoch 20/30\n",
      "9450/9450 [==============================] - 1s 129us/step - loss: 0.5421 - accuracy: 0.8690 - val_loss: 0.5463 - val_accuracy: 0.8648\n",
      "9450/9450 [==============================] - 1s 129us/step - loss: 0.5421 - accuracy: 0.8690 - val_loss: 0.5463 - val_accuracy: 0.8648\n",
      "Epoch 21/30\n",
      "  20/9450 [..............................] - ETA: 2s - loss: 0.3154 - accuracy: 0.9500Epoch 21/30\n",
      "9450/9450 [==============================] - 1s 124us/step - loss: 0.5154 - accuracy: 0.8697 - val_loss: 0.6936 - val_accuracy: 0.8610\n",
      "9450/9450 [==============================] - 1s 124us/step - loss: 0.5154 - accuracy: 0.8697 - val_loss: 0.6936 - val_accuracy: 0.8610\n",
      "Epoch 22/30\n",
      "  20/9450 [..............................] - ETA: 2s - loss: 0.6201 - accuracy: 0.7500Epoch 22/30\n",
      "9450/9450 [==============================] - 1s 132us/step - loss: 0.5506 - accuracy: 0.8692 - val_loss: 0.9545 - val_accuracy: 0.8600\n",
      "9450/9450 [==============================] - 1s 132us/step - loss: 0.5506 - accuracy: 0.8692 - val_loss: 0.9545 - val_accuracy: 0.8600\n",
      "Epoch 23/30\n",
      "  20/9450 [..............................] - ETA: 1s - loss: 0.5914 - accuracy: 0.8000Epoch 23/30\n"
     ]
    },
    {
     "name": "stdout",
     "output_type": "stream",
     "text": [
      "9450/9450 [==============================] - 1s 111us/step - loss: 0.5262 - accuracy: 0.8689 - val_loss: 0.4595 - val_accuracy: 0.8629\n",
      "9450/9450 [==============================] - 1s 111us/step - loss: 0.5262 - accuracy: 0.8689 - val_loss: 0.4595 - val_accuracy: 0.8629\n",
      "Epoch 24/30\n",
      "  20/9450 [..............................] - ETA: 1s - loss: 0.4036 - accuracy: 0.8500Epoch 24/30\n",
      "9450/9450 [==============================] - 1s 114us/step - loss: 0.4903 - accuracy: 0.8699 - val_loss: 0.3817 - val_accuracy: 0.8695\n",
      "9450/9450 [==============================] - 1s 114us/step - loss: 0.4903 - accuracy: 0.8699 - val_loss: 0.3817 - val_accuracy: 0.8695\n",
      "Epoch 25/30\n",
      "  20/9450 [..............................] - ETA: 2s - loss: 0.1579 - accuracy: 1.0000Epoch 25/30\n",
      "9450/9450 [==============================] - 1s 116us/step - loss: 0.4584 - accuracy: 0.8704 - val_loss: 0.3819 - val_accuracy: 0.8648\n",
      "9450/9450 [==============================] - 1s 116us/step - loss: 0.4584 - accuracy: 0.8704 - val_loss: 0.3819 - val_accuracy: 0.8648\n",
      "Epoch 26/30\n",
      "  20/9450 [..............................] - ETA: 1s - loss: 0.3030 - accuracy: 0.9000Epoch 26/30\n",
      "9450/9450 [==============================] - 1s 113us/step - loss: 0.4548 - accuracy: 0.8694 - val_loss: 0.5577 - val_accuracy: 0.8638\n",
      "9450/9450 [==============================] - 1s 113us/step - loss: 0.4548 - accuracy: 0.8694 - val_loss: 0.5577 - val_accuracy: 0.8638\n",
      "Epoch 27/30\n",
      "Epoch 27/30\n",
      "9450/9450 [==============================] - 1s 117us/step - loss: 0.4842 - accuracy: 0.8701 - val_loss: 0.5130 - val_accuracy: 0.8610\n",
      "9450/9450 [==============================] - 1s 117us/step - loss: 0.4842 - accuracy: 0.8701 - val_loss: 0.5130 - val_accuracy: 0.8610\n",
      "Epoch 28/30\n",
      "  20/9450 [..............................] - ETA: 1s - loss: 0.3540 - accuracy: 0.9000Epoch 28/30\n",
      "9450/9450 [==============================] - 1s 117us/step - loss: 0.4704 - accuracy: 0.8697 - val_loss: 0.3778 - val_accuracy: 0.8657\n",
      "9450/9450 [==============================] - 1s 117us/step - loss: 0.4704 - accuracy: 0.8697 - val_loss: 0.3778 - val_accuracy: 0.8657\n",
      "Epoch 29/30\n",
      "  20/9450 [..............................] - ETA: 1s - loss: 0.4554 - accuracy: 0.8000Epoch 29/30\n",
      "9450/9450 [==============================] - 1s 114us/step - loss: 0.4632 - accuracy: 0.8693 - val_loss: 1.0072 - val_accuracy: 0.8667\n",
      "9450/9450 [==============================] - 1s 114us/step - loss: 0.4632 - accuracy: 0.8693 - val_loss: 1.0072 - val_accuracy: 0.8667\n",
      "Epoch 30/30\n",
      "  20/9450 [..............................] - ETA: 3s - loss: 0.4345 - accuracy: 0.8500Epoch 30/30\n",
      "9450/9450 [==============================] - 1s 119us/step - loss: 0.5053 - accuracy: 0.8694 - val_loss: 0.3882 - val_accuracy: 0.8667\n",
      "9450/9450 [==============================] - 1s 119us/step - loss: 0.5053 - accuracy: 0.8694 - val_loss: 0.3882 - val_accuracy: 0.8667\n"
     ]
    }
   ],
   "source": [
    "import pandas as pd \n",
    "import matplotlib.pyplot as plt\n",
    "\n",
    "import os\n",
    "import keras\n",
    "\n",
    "import numpy as np\n",
    "from keras.models import Sequential\n",
    "from keras.layers import Dense\n",
    "from keras.wrappers.scikit_learn import KerasRegressor\n",
    "\n",
    "seed = 7\n",
    "\n",
    "np.random.seed(seed)\n",
    "\n",
    "max_features = 5000\n",
    "maxlen = 400\n",
    "batch_size = 32\n",
    "embedding_dims = 50\n",
    "filters = 100\n",
    "kernel_size = 3\n",
    "hidden_dims = 100\n",
    "epochs = 2\n",
    "\n",
    "# Model\n",
    "model = Sequential()\n",
    "model.add(Dense(100, input_dim=57, kernel_initializer='normal', activation='relu'))\n",
    "model.add(Dense(hidden_dims, kernel_initializer='normal', activation='softplus'))\n",
    "model.add(Dense(hidden_dims, kernel_initializer='normal', activation='softplus'))\n",
    "model.add(Dense(1, kernel_initializer='normal',activation='sigmoid'))\n",
    "# Compile model\n",
    "model.compile(loss='binary_crossentropy', optimizer=keras.optimizers.RMSprop(lr=.0001),metrics=['accuracy'])\n",
    "\n",
    "feature_cols = pro_train\n",
    "labels = train['gender']\n",
    "\n",
    "history = model.fit(np.array(feature_cols), np.array(labels),validation_split=.1, epochs=30,batch_size=20)"
   ]
  },
  {
   "cell_type": "code",
   "execution_count": 332,
   "metadata": {},
   "outputs": [
    {
     "name": "stdout",
     "output_type": "stream",
     "text": [
      "Train on 9450 samples, validate on 1050 samples\n",
      "Epoch 1/30\n",
      "  10/9450 [..............................] - ETA: 4s - loss: 0.0960 - accuracy: 1.0000Train on 9450 samples, validate on 1050 samples\n",
      "Epoch 1/30\n",
      "9450/9450 [==============================] - 2s 218us/step - loss: 0.8301 - accuracy: 0.8703 - val_loss: 0.4032 - val_accuracy: 0.8667\n",
      "9450/9450 [==============================] - 2s 218us/step - loss: 0.8301 - accuracy: 0.8703 - val_loss: 0.4032 - val_accuracy: 0.8667\n",
      "Epoch 2/30\n",
      "  10/9450 [..............................] - ETA: 3s - loss: 0.2936 - accuracy: 0.9000Epoch 2/30\n",
      "9450/9450 [==============================] - 2s 214us/step - loss: 0.4948 - accuracy: 0.8692 - val_loss: 3.5935 - val_accuracy: 0.8648\n",
      "9450/9450 [==============================] - 2s 214us/step - loss: 0.4948 - accuracy: 0.8692 - val_loss: 3.5935 - val_accuracy: 0.8648\n",
      "Epoch 3/30\n",
      "  10/9450 [..............................] - ETA: 4s - loss: 0.2624 - accuracy: 0.9000Epoch 3/30\n",
      "9450/9450 [==============================] - 2s 215us/step - loss: 0.5511 - accuracy: 0.8698 - val_loss: 0.4727 - val_accuracy: 0.8648\n",
      "9450/9450 [==============================] - 2s 215us/step - loss: 0.5511 - accuracy: 0.8698 - val_loss: 0.4727 - val_accuracy: 0.8648\n",
      "Epoch 4/30\n",
      "  10/9450 [..............................] - ETA: 3s - loss: 0.7888 - accuracy: 0.6000Epoch 4/30\n",
      "9450/9450 [==============================] - 2s 217us/step - loss: 0.5566 - accuracy: 0.8698 - val_loss: 0.4716 - val_accuracy: 0.8667\n",
      "9450/9450 [==============================] - 2s 217us/step - loss: 0.5566 - accuracy: 0.8698 - val_loss: 0.4716 - val_accuracy: 0.8667\n",
      "Epoch 5/30\n",
      "  10/9450 [..............................] - ETA: 3s - loss: 0.4361 - accuracy: 0.9000Epoch 5/30\n",
      "9450/9450 [==============================] - 2s 248us/step - loss: 0.6863 - accuracy: 0.8702 - val_loss: 0.3937 - val_accuracy: 0.8667\n",
      "9450/9450 [==============================] - 2s 248us/step - loss: 0.6863 - accuracy: 0.8702 - val_loss: 0.3937 - val_accuracy: 0.8667\n",
      "Epoch 6/30\n",
      "  10/9450 [..............................] - ETA: 3s - loss: 0.1417 - accuracy: 1.0000Epoch 6/30\n",
      "9450/9450 [==============================] - 2s 230us/step - loss: 0.7408 - accuracy: 0.8706 - val_loss: 0.4222 - val_accuracy: 0.8590\n",
      "9450/9450 [==============================] - 2s 230us/step - loss: 0.7408 - accuracy: 0.8706 - val_loss: 0.4222 - val_accuracy: 0.8590\n",
      "Epoch 7/30\n",
      "  10/9450 [..............................] - ETA: 4s - loss: 0.6526 - accuracy: 0.8000Epoch 7/30\n",
      "9450/9450 [==============================] - 2s 222us/step - loss: 1.1570 - accuracy: 0.8712 - val_loss: 0.3843 - val_accuracy: 0.8638\n",
      "9450/9450 [==============================] - 2s 222us/step - loss: 1.1570 - accuracy: 0.8712 - val_loss: 0.3843 - val_accuracy: 0.8638\n",
      "Epoch 8/30\n",
      "  10/9450 [..............................] - ETA: 3s - loss: 0.3904 - accuracy: 0.8000Epoch 8/30\n",
      "9450/9450 [==============================] - 2s 229us/step - loss: 0.5987 - accuracy: 0.8701 - val_loss: 0.4402 - val_accuracy: 0.8629\n",
      "9450/9450 [==============================] - 2s 229us/step - loss: 0.5987 - accuracy: 0.8701 - val_loss: 0.4402 - val_accuracy: 0.8629\n",
      "Epoch 9/30\n",
      "  10/9450 [..............................] - ETA: 3s - loss: 0.3691 - accuracy: 0.8000Epoch 9/30\n",
      "9450/9450 [==============================] - 2s 228us/step - loss: 0.6867 - accuracy: 0.8705 - val_loss: 0.3796 - val_accuracy: 0.8648\n",
      "9450/9450 [==============================] - 2s 228us/step - loss: 0.6867 - accuracy: 0.8705 - val_loss: 0.3796 - val_accuracy: 0.8648\n",
      "Epoch 10/30\n",
      "  10/9450 [..............................] - ETA: 3s - loss: 0.3144 - accuracy: 0.9000Epoch 10/30\n",
      "9450/9450 [==============================] - 2s 224us/step - loss: 1.1441 - accuracy: 0.8712 - val_loss: 0.3794 - val_accuracy: 0.8676\n",
      "9450/9450 [==============================] - 2s 224us/step - loss: 1.1441 - accuracy: 0.8712 - val_loss: 0.3794 - val_accuracy: 0.8676\n",
      "Epoch 11/30\n",
      "  10/9450 [..............................] - ETA: 3s - loss: 0.3429 - accuracy: 0.9000Epoch 11/30\n",
      "9450/9450 [==============================] - 2s 223us/step - loss: 0.5362 - accuracy: 0.8702 - val_loss: 1.2177 - val_accuracy: 0.8648\n",
      "9450/9450 [==============================] - 2s 223us/step - loss: 0.5362 - accuracy: 0.8702 - val_loss: 1.2177 - val_accuracy: 0.8648\n",
      "Epoch 12/30\n",
      "  10/9450 [..............................] - ETA: 3s - loss: 0.3174 - accuracy: 0.9000Epoch 12/30\n",
      "9450/9450 [==============================] - 2s 224us/step - loss: 0.5434 - accuracy: 0.8697 - val_loss: 1.4708 - val_accuracy: 0.8619\n",
      "9450/9450 [==============================] - 2s 224us/step - loss: 0.5434 - accuracy: 0.8697 - val_loss: 1.4708 - val_accuracy: 0.8619\n",
      "Epoch 13/30\n",
      "  10/9450 [..............................] - ETA: 3s - loss: 0.6972 - accuracy: 0.6000Epoch 13/30\n",
      "9450/9450 [==============================] - 2s 230us/step - loss: 0.7460 - accuracy: 0.8702 - val_loss: 2.7236 - val_accuracy: 0.8610\n",
      "9450/9450 [==============================] - 2s 230us/step - loss: 0.7460 - accuracy: 0.8702 - val_loss: 2.7236 - val_accuracy: 0.8610\n",
      "Epoch 14/30\n",
      "  10/9450 [..............................] - ETA: 3s - loss: 0.1663 - accuracy: 1.0000Epoch 14/30\n",
      "9450/9450 [==============================] - 2s 227us/step - loss: 0.6233 - accuracy: 0.8698 - val_loss: 0.6714 - val_accuracy: 0.8629\n",
      "9450/9450 [==============================] - 2s 227us/step - loss: 0.6233 - accuracy: 0.8698 - val_loss: 0.6714 - val_accuracy: 0.8629\n",
      "Epoch 15/30\n",
      "  10/9450 [..............................] - ETA: 3s - loss: 0.7494 - accuracy: 0.7000Epoch 15/30\n",
      "9450/9450 [==============================] - 2s 221us/step - loss: 0.5736 - accuracy: 0.8696 - val_loss: 0.3809 - val_accuracy: 0.8657\n",
      "9450/9450 [==============================] - 2s 221us/step - loss: 0.5736 - accuracy: 0.8696 - val_loss: 0.3809 - val_accuracy: 0.8657\n",
      "Epoch 16/30\n",
      "  10/9450 [..............................] - ETA: 3s - loss: 0.5129 - accuracy: 0.8000Epoch 16/30\n",
      "9450/9450 [==============================] - 2s 220us/step - loss: 0.7759 - accuracy: 0.8684 - val_loss: 0.3835 - val_accuracy: 0.8648\n",
      "9450/9450 [==============================] - 2s 220us/step - loss: 0.7759 - accuracy: 0.8684 - val_loss: 0.3835 - val_accuracy: 0.8648\n",
      "Epoch 17/30\n",
      "  10/9450 [..............................] - ETA: 3s - loss: 0.1304 - accuracy: 1.0000Epoch 17/30\n",
      "9450/9450 [==============================] - 2s 233us/step - loss: 0.8482 - accuracy: 0.8704 - val_loss: 0.4610 - val_accuracy: 0.8648\n",
      "9450/9450 [==============================] - 2s 233us/step - loss: 0.8482 - accuracy: 0.8704 - val_loss: 0.4610 - val_accuracy: 0.8648\n",
      "Epoch 18/30\n",
      "  10/9450 [..............................] - ETA: 3s - loss: 0.3569 - accuracy: 0.9000Epoch 18/30\n",
      "9450/9450 [==============================] - 2s 236us/step - loss: 0.6029 - accuracy: 0.8691 - val_loss: 0.4603 - val_accuracy: 0.8638\n",
      "9450/9450 [==============================] - 2s 236us/step - loss: 0.6029 - accuracy: 0.8691 - val_loss: 0.4603 - val_accuracy: 0.8638\n",
      "Epoch 19/30\n",
      "  10/9450 [..............................] - ETA: 3s - loss: 0.1628 - accuracy: 0.9000Epoch 19/30\n",
      "9450/9450 [==============================] - 2s 231us/step - loss: 0.6497 - accuracy: 0.8690 - val_loss: 0.3944 - val_accuracy: 0.8657\n",
      "9450/9450 [==============================] - 2s 231us/step - loss: 0.6497 - accuracy: 0.8690 - val_loss: 0.3944 - val_accuracy: 0.8657\n",
      "Epoch 20/30\n",
      "  10/9450 [..............................] - ETA: 3s - loss: 0.1557 - accuracy: 1.0000Epoch 20/30\n",
      "9450/9450 [==============================] - 3s 276us/step - loss: 0.4896 - accuracy: 0.8699 - val_loss: 0.4672 - val_accuracy: 0.8619\n",
      "9450/9450 [==============================] - 3s 276us/step - loss: 0.4896 - accuracy: 0.8699 - val_loss: 0.4672 - val_accuracy: 0.8619\n",
      "Epoch 21/30\n",
      "  10/9450 [..............................] - ETA: 4s - loss: 0.1156 - accuracy: 1.0000Epoch 21/30\n",
      "7590/9450 [=======================>......] - ETA: 0s - loss: 0.8025 - accuracy: 0.8675"
     ]
    },
    {
     "ename": "KeyboardInterrupt",
     "evalue": "",
     "output_type": "error",
     "traceback": [
      "\u001b[0;31m---------------------------------------------------------------------------\u001b[0m",
      "\u001b[0;31mKeyboardInterrupt\u001b[0m                         Traceback (most recent call last)",
      "\u001b[0;32m<ipython-input-332-24ee81a002c7>\u001b[0m in \u001b[0;36m<module>\u001b[0;34m\u001b[0m\n\u001b[0;32m----> 1\u001b[0;31m \u001b[0mhistory\u001b[0m \u001b[0;34m=\u001b[0m \u001b[0mmodel\u001b[0m\u001b[0;34m.\u001b[0m\u001b[0mfit\u001b[0m\u001b[0;34m(\u001b[0m\u001b[0mnp\u001b[0m\u001b[0;34m.\u001b[0m\u001b[0marray\u001b[0m\u001b[0;34m(\u001b[0m\u001b[0mfeature_cols\u001b[0m\u001b[0;34m)\u001b[0m\u001b[0;34m,\u001b[0m \u001b[0mnp\u001b[0m\u001b[0;34m.\u001b[0m\u001b[0marray\u001b[0m\u001b[0;34m(\u001b[0m\u001b[0mlabels\u001b[0m\u001b[0;34m)\u001b[0m\u001b[0;34m,\u001b[0m\u001b[0mvalidation_split\u001b[0m\u001b[0;34m=\u001b[0m\u001b[0;36m.1\u001b[0m\u001b[0;34m,\u001b[0m \u001b[0mepochs\u001b[0m\u001b[0;34m=\u001b[0m\u001b[0;36m30\u001b[0m\u001b[0;34m,\u001b[0m\u001b[0mbatch_size\u001b[0m\u001b[0;34m=\u001b[0m\u001b[0;36m10\u001b[0m\u001b[0;34m)\u001b[0m\u001b[0;34m\u001b[0m\u001b[0;34m\u001b[0m\u001b[0m\n\u001b[0m",
      "\u001b[0;32m//anaconda3/lib/python3.7/site-packages/keras/engine/training.py\u001b[0m in \u001b[0;36mfit\u001b[0;34m(self, x, y, batch_size, epochs, verbose, callbacks, validation_split, validation_data, shuffle, class_weight, sample_weight, initial_epoch, steps_per_epoch, validation_steps, validation_freq, max_queue_size, workers, use_multiprocessing, **kwargs)\u001b[0m\n\u001b[1;32m   1237\u001b[0m                                         \u001b[0msteps_per_epoch\u001b[0m\u001b[0;34m=\u001b[0m\u001b[0msteps_per_epoch\u001b[0m\u001b[0;34m,\u001b[0m\u001b[0;34m\u001b[0m\u001b[0;34m\u001b[0m\u001b[0m\n\u001b[1;32m   1238\u001b[0m                                         \u001b[0mvalidation_steps\u001b[0m\u001b[0;34m=\u001b[0m\u001b[0mvalidation_steps\u001b[0m\u001b[0;34m,\u001b[0m\u001b[0;34m\u001b[0m\u001b[0;34m\u001b[0m\u001b[0m\n\u001b[0;32m-> 1239\u001b[0;31m                                         validation_freq=validation_freq)\n\u001b[0m\u001b[1;32m   1240\u001b[0m \u001b[0;34m\u001b[0m\u001b[0m\n\u001b[1;32m   1241\u001b[0m     def evaluate(self,\n",
      "\u001b[0;32m//anaconda3/lib/python3.7/site-packages/keras/engine/training_arrays.py\u001b[0m in \u001b[0;36mfit_loop\u001b[0;34m(model, fit_function, fit_inputs, out_labels, batch_size, epochs, verbose, callbacks, val_function, val_inputs, shuffle, initial_epoch, steps_per_epoch, validation_steps, validation_freq)\u001b[0m\n\u001b[1;32m    194\u001b[0m                     \u001b[0mins_batch\u001b[0m\u001b[0;34m[\u001b[0m\u001b[0mi\u001b[0m\u001b[0;34m]\u001b[0m \u001b[0;34m=\u001b[0m \u001b[0mins_batch\u001b[0m\u001b[0;34m[\u001b[0m\u001b[0mi\u001b[0m\u001b[0;34m]\u001b[0m\u001b[0;34m.\u001b[0m\u001b[0mtoarray\u001b[0m\u001b[0;34m(\u001b[0m\u001b[0;34m)\u001b[0m\u001b[0;34m\u001b[0m\u001b[0;34m\u001b[0m\u001b[0m\n\u001b[1;32m    195\u001b[0m \u001b[0;34m\u001b[0m\u001b[0m\n\u001b[0;32m--> 196\u001b[0;31m                 \u001b[0mouts\u001b[0m \u001b[0;34m=\u001b[0m \u001b[0mfit_function\u001b[0m\u001b[0;34m(\u001b[0m\u001b[0mins_batch\u001b[0m\u001b[0;34m)\u001b[0m\u001b[0;34m\u001b[0m\u001b[0;34m\u001b[0m\u001b[0m\n\u001b[0m\u001b[1;32m    197\u001b[0m                 \u001b[0mouts\u001b[0m \u001b[0;34m=\u001b[0m \u001b[0mto_list\u001b[0m\u001b[0;34m(\u001b[0m\u001b[0mouts\u001b[0m\u001b[0;34m)\u001b[0m\u001b[0;34m\u001b[0m\u001b[0;34m\u001b[0m\u001b[0m\n\u001b[1;32m    198\u001b[0m                 \u001b[0;32mfor\u001b[0m \u001b[0ml\u001b[0m\u001b[0;34m,\u001b[0m \u001b[0mo\u001b[0m \u001b[0;32min\u001b[0m \u001b[0mzip\u001b[0m\u001b[0;34m(\u001b[0m\u001b[0mout_labels\u001b[0m\u001b[0;34m,\u001b[0m \u001b[0mouts\u001b[0m\u001b[0;34m)\u001b[0m\u001b[0;34m:\u001b[0m\u001b[0;34m\u001b[0m\u001b[0;34m\u001b[0m\u001b[0m\n",
      "\u001b[0;32m//anaconda3/lib/python3.7/site-packages/tensorflow/python/keras/backend.py\u001b[0m in \u001b[0;36m__call__\u001b[0;34m(self, inputs)\u001b[0m\n\u001b[1;32m   3290\u001b[0m \u001b[0;34m\u001b[0m\u001b[0m\n\u001b[1;32m   3291\u001b[0m     fetched = self._callable_fn(*array_vals,\n\u001b[0;32m-> 3292\u001b[0;31m                                 run_metadata=self.run_metadata)\n\u001b[0m\u001b[1;32m   3293\u001b[0m     \u001b[0mself\u001b[0m\u001b[0;34m.\u001b[0m\u001b[0m_call_fetch_callbacks\u001b[0m\u001b[0;34m(\u001b[0m\u001b[0mfetched\u001b[0m\u001b[0;34m[\u001b[0m\u001b[0;34m-\u001b[0m\u001b[0mlen\u001b[0m\u001b[0;34m(\u001b[0m\u001b[0mself\u001b[0m\u001b[0;34m.\u001b[0m\u001b[0m_fetches\u001b[0m\u001b[0;34m)\u001b[0m\u001b[0;34m:\u001b[0m\u001b[0;34m]\u001b[0m\u001b[0;34m)\u001b[0m\u001b[0;34m\u001b[0m\u001b[0;34m\u001b[0m\u001b[0m\n\u001b[1;32m   3294\u001b[0m     output_structure = nest.pack_sequence_as(\n",
      "\u001b[0;32m//anaconda3/lib/python3.7/site-packages/tensorflow/python/client/session.py\u001b[0m in \u001b[0;36m__call__\u001b[0;34m(self, *args, **kwargs)\u001b[0m\n\u001b[1;32m   1456\u001b[0m         ret = tf_session.TF_SessionRunCallable(self._session._session,\n\u001b[1;32m   1457\u001b[0m                                                \u001b[0mself\u001b[0m\u001b[0;34m.\u001b[0m\u001b[0m_handle\u001b[0m\u001b[0;34m,\u001b[0m \u001b[0margs\u001b[0m\u001b[0;34m,\u001b[0m\u001b[0;34m\u001b[0m\u001b[0;34m\u001b[0m\u001b[0m\n\u001b[0;32m-> 1458\u001b[0;31m                                                run_metadata_ptr)\n\u001b[0m\u001b[1;32m   1459\u001b[0m         \u001b[0;32mif\u001b[0m \u001b[0mrun_metadata\u001b[0m\u001b[0;34m:\u001b[0m\u001b[0;34m\u001b[0m\u001b[0;34m\u001b[0m\u001b[0m\n\u001b[1;32m   1460\u001b[0m           \u001b[0mproto_data\u001b[0m \u001b[0;34m=\u001b[0m \u001b[0mtf_session\u001b[0m\u001b[0;34m.\u001b[0m\u001b[0mTF_GetBuffer\u001b[0m\u001b[0;34m(\u001b[0m\u001b[0mrun_metadata_ptr\u001b[0m\u001b[0;34m)\u001b[0m\u001b[0;34m\u001b[0m\u001b[0;34m\u001b[0m\u001b[0m\n",
      "\u001b[0;31mKeyboardInterrupt\u001b[0m: "
     ]
    },
    {
     "ename": "KeyboardInterrupt",
     "evalue": "",
     "output_type": "error",
     "traceback": [
      "\u001b[0;31m---------------------------------------------------------------------------\u001b[0m",
      "\u001b[0;31mKeyboardInterrupt\u001b[0m                         Traceback (most recent call last)",
      "\u001b[0;32m<ipython-input-332-24ee81a002c7>\u001b[0m in \u001b[0;36m<module>\u001b[0;34m\u001b[0m\n\u001b[0;32m----> 1\u001b[0;31m \u001b[0mhistory\u001b[0m \u001b[0;34m=\u001b[0m \u001b[0mmodel\u001b[0m\u001b[0;34m.\u001b[0m\u001b[0mfit\u001b[0m\u001b[0;34m(\u001b[0m\u001b[0mnp\u001b[0m\u001b[0;34m.\u001b[0m\u001b[0marray\u001b[0m\u001b[0;34m(\u001b[0m\u001b[0mfeature_cols\u001b[0m\u001b[0;34m)\u001b[0m\u001b[0;34m,\u001b[0m \u001b[0mnp\u001b[0m\u001b[0;34m.\u001b[0m\u001b[0marray\u001b[0m\u001b[0;34m(\u001b[0m\u001b[0mlabels\u001b[0m\u001b[0;34m)\u001b[0m\u001b[0;34m,\u001b[0m\u001b[0mvalidation_split\u001b[0m\u001b[0;34m=\u001b[0m\u001b[0;36m.1\u001b[0m\u001b[0;34m,\u001b[0m \u001b[0mepochs\u001b[0m\u001b[0;34m=\u001b[0m\u001b[0;36m30\u001b[0m\u001b[0;34m,\u001b[0m\u001b[0mbatch_size\u001b[0m\u001b[0;34m=\u001b[0m\u001b[0;36m10\u001b[0m\u001b[0;34m)\u001b[0m\u001b[0;34m\u001b[0m\u001b[0;34m\u001b[0m\u001b[0m\n\u001b[0m",
      "\u001b[0;32m//anaconda3/lib/python3.7/site-packages/keras/engine/training.py\u001b[0m in \u001b[0;36mfit\u001b[0;34m(self, x, y, batch_size, epochs, verbose, callbacks, validation_split, validation_data, shuffle, class_weight, sample_weight, initial_epoch, steps_per_epoch, validation_steps, validation_freq, max_queue_size, workers, use_multiprocessing, **kwargs)\u001b[0m\n\u001b[1;32m   1237\u001b[0m                                         \u001b[0msteps_per_epoch\u001b[0m\u001b[0;34m=\u001b[0m\u001b[0msteps_per_epoch\u001b[0m\u001b[0;34m,\u001b[0m\u001b[0;34m\u001b[0m\u001b[0;34m\u001b[0m\u001b[0m\n\u001b[1;32m   1238\u001b[0m                                         \u001b[0mvalidation_steps\u001b[0m\u001b[0;34m=\u001b[0m\u001b[0mvalidation_steps\u001b[0m\u001b[0;34m,\u001b[0m\u001b[0;34m\u001b[0m\u001b[0;34m\u001b[0m\u001b[0m\n\u001b[0;32m-> 1239\u001b[0;31m                                         validation_freq=validation_freq)\n\u001b[0m\u001b[1;32m   1240\u001b[0m \u001b[0;34m\u001b[0m\u001b[0m\n\u001b[1;32m   1241\u001b[0m     def evaluate(self,\n",
      "\u001b[0;32m//anaconda3/lib/python3.7/site-packages/keras/engine/training_arrays.py\u001b[0m in \u001b[0;36mfit_loop\u001b[0;34m(model, fit_function, fit_inputs, out_labels, batch_size, epochs, verbose, callbacks, val_function, val_inputs, shuffle, initial_epoch, steps_per_epoch, validation_steps, validation_freq)\u001b[0m\n\u001b[1;32m    194\u001b[0m                     \u001b[0mins_batch\u001b[0m\u001b[0;34m[\u001b[0m\u001b[0mi\u001b[0m\u001b[0;34m]\u001b[0m \u001b[0;34m=\u001b[0m \u001b[0mins_batch\u001b[0m\u001b[0;34m[\u001b[0m\u001b[0mi\u001b[0m\u001b[0;34m]\u001b[0m\u001b[0;34m.\u001b[0m\u001b[0mtoarray\u001b[0m\u001b[0;34m(\u001b[0m\u001b[0;34m)\u001b[0m\u001b[0;34m\u001b[0m\u001b[0;34m\u001b[0m\u001b[0m\n\u001b[1;32m    195\u001b[0m \u001b[0;34m\u001b[0m\u001b[0m\n\u001b[0;32m--> 196\u001b[0;31m                 \u001b[0mouts\u001b[0m \u001b[0;34m=\u001b[0m \u001b[0mfit_function\u001b[0m\u001b[0;34m(\u001b[0m\u001b[0mins_batch\u001b[0m\u001b[0;34m)\u001b[0m\u001b[0;34m\u001b[0m\u001b[0;34m\u001b[0m\u001b[0m\n\u001b[0m\u001b[1;32m    197\u001b[0m                 \u001b[0mouts\u001b[0m \u001b[0;34m=\u001b[0m \u001b[0mto_list\u001b[0m\u001b[0;34m(\u001b[0m\u001b[0mouts\u001b[0m\u001b[0;34m)\u001b[0m\u001b[0;34m\u001b[0m\u001b[0;34m\u001b[0m\u001b[0m\n\u001b[1;32m    198\u001b[0m                 \u001b[0;32mfor\u001b[0m \u001b[0ml\u001b[0m\u001b[0;34m,\u001b[0m \u001b[0mo\u001b[0m \u001b[0;32min\u001b[0m \u001b[0mzip\u001b[0m\u001b[0;34m(\u001b[0m\u001b[0mout_labels\u001b[0m\u001b[0;34m,\u001b[0m \u001b[0mouts\u001b[0m\u001b[0;34m)\u001b[0m\u001b[0;34m:\u001b[0m\u001b[0;34m\u001b[0m\u001b[0;34m\u001b[0m\u001b[0m\n",
      "\u001b[0;32m//anaconda3/lib/python3.7/site-packages/tensorflow/python/keras/backend.py\u001b[0m in \u001b[0;36m__call__\u001b[0;34m(self, inputs)\u001b[0m\n\u001b[1;32m   3290\u001b[0m \u001b[0;34m\u001b[0m\u001b[0m\n\u001b[1;32m   3291\u001b[0m     fetched = self._callable_fn(*array_vals,\n\u001b[0;32m-> 3292\u001b[0;31m                                 run_metadata=self.run_metadata)\n\u001b[0m\u001b[1;32m   3293\u001b[0m     \u001b[0mself\u001b[0m\u001b[0;34m.\u001b[0m\u001b[0m_call_fetch_callbacks\u001b[0m\u001b[0;34m(\u001b[0m\u001b[0mfetched\u001b[0m\u001b[0;34m[\u001b[0m\u001b[0;34m-\u001b[0m\u001b[0mlen\u001b[0m\u001b[0;34m(\u001b[0m\u001b[0mself\u001b[0m\u001b[0;34m.\u001b[0m\u001b[0m_fetches\u001b[0m\u001b[0;34m)\u001b[0m\u001b[0;34m:\u001b[0m\u001b[0;34m]\u001b[0m\u001b[0;34m)\u001b[0m\u001b[0;34m\u001b[0m\u001b[0;34m\u001b[0m\u001b[0m\n\u001b[1;32m   3294\u001b[0m     output_structure = nest.pack_sequence_as(\n",
      "\u001b[0;32m//anaconda3/lib/python3.7/site-packages/tensorflow/python/client/session.py\u001b[0m in \u001b[0;36m__call__\u001b[0;34m(self, *args, **kwargs)\u001b[0m\n\u001b[1;32m   1456\u001b[0m         ret = tf_session.TF_SessionRunCallable(self._session._session,\n\u001b[1;32m   1457\u001b[0m                                                \u001b[0mself\u001b[0m\u001b[0;34m.\u001b[0m\u001b[0m_handle\u001b[0m\u001b[0;34m,\u001b[0m \u001b[0margs\u001b[0m\u001b[0;34m,\u001b[0m\u001b[0;34m\u001b[0m\u001b[0;34m\u001b[0m\u001b[0m\n\u001b[0;32m-> 1458\u001b[0;31m                                                run_metadata_ptr)\n\u001b[0m\u001b[1;32m   1459\u001b[0m         \u001b[0;32mif\u001b[0m \u001b[0mrun_metadata\u001b[0m\u001b[0;34m:\u001b[0m\u001b[0;34m\u001b[0m\u001b[0;34m\u001b[0m\u001b[0m\n\u001b[1;32m   1460\u001b[0m           \u001b[0mproto_data\u001b[0m \u001b[0;34m=\u001b[0m \u001b[0mtf_session\u001b[0m\u001b[0;34m.\u001b[0m\u001b[0mTF_GetBuffer\u001b[0m\u001b[0;34m(\u001b[0m\u001b[0mrun_metadata_ptr\u001b[0m\u001b[0;34m)\u001b[0m\u001b[0;34m\u001b[0m\u001b[0;34m\u001b[0m\u001b[0m\n",
      "\u001b[0;31mKeyboardInterrupt\u001b[0m: "
     ]
    }
   ],
   "source": [
    "history = model.fit(np.array(feature_cols), np.array(labels),validation_split=.1, epochs=30,batch_size=10)"
   ]
  },
  {
   "cell_type": "code",
   "execution_count": 333,
   "metadata": {},
   "outputs": [],
   "source": [
    "prep_subd( model)"
   ]
  },
  {
   "cell_type": "code",
   "execution_count": 319,
   "metadata": {},
   "outputs": [],
   "source": [
    "def prep_subd(clf):\n",
    "    pred = clf.predict(pro_test)\n",
    "    Pred=pd.DataFrame(np.round(pred))\n",
    "    mapping = {0: 'female', 1: 'male'}\n",
    "    Pred=Pred.replace({0: mapping, 1: mapping})\n",
    "    submission['gender']=Pred[0]\n",
    "    submission.to_csv('submission.csv',index=False)"
   ]
  },
  {
   "cell_type": "code",
   "execution_count": 465,
   "metadata": {},
   "outputs": [
    {
     "name": "stdout",
     "output_type": "stream",
     "text": [
      "  session_id  gender\n",
      "0     u12112  female\n",
      "1     u19725  female\n",
      "2     u11795  female\n",
      "3     u22639  female\n",
      "4     u18034  female\n",
      "  session_id  gender\n",
      "0     u12112  female\n",
      "1     u19725  female\n",
      "2     u11795  female\n",
      "3     u22639  female\n",
      "4     u18034  female\n"
     ]
    }
   ],
   "source": [
    "clf_l=[clf,clf_lr,clf_rf,clf_lgb,model]\n",
    "\n",
    "prep_en_sub(clf_l)"
   ]
  },
  {
   "cell_type": "code",
   "execution_count": 494,
   "metadata": {},
   "outputs": [
    {
     "name": "stdout",
     "output_type": "stream",
     "text": [
      "[0]\tvalidation_0-error:0.125266\tvalidation_1-error:0.145397\n",
      "[0]\tvalidation_0-error:0.125266\tvalidation_1-error:0.145397\n",
      "[1]\tvalidation_0-error:0.121345\tvalidation_1-error:0.137143\n",
      "[1]\tvalidation_0-error:0.121345\tvalidation_1-error:0.137143\n",
      "[2]\tvalidation_0-error:0.122017\tvalidation_1-error:0.137143\n",
      "[2]\tvalidation_0-error:0.122017\tvalidation_1-error:0.137143\n",
      "[3]\tvalidation_0-error:0.121345\tvalidation_1-error:0.136508\n",
      "[3]\tvalidation_0-error:0.121345\tvalidation_1-error:0.136508\n",
      "[4]\tvalidation_0-error:0.121008\tvalidation_1-error:0.137778\n",
      "[4]\tvalidation_0-error:0.121008\tvalidation_1-error:0.137778\n",
      "[5]\tvalidation_0-error:0.121345\tvalidation_1-error:0.135873\n",
      "[5]\tvalidation_0-error:0.121345\tvalidation_1-error:0.135873\n",
      "[6]\tvalidation_0-error:0.120448\tvalidation_1-error:0.135873\n",
      "[6]\tvalidation_0-error:0.120448\tvalidation_1-error:0.135873\n",
      "[7]\tvalidation_0-error:0.121232\tvalidation_1-error:0.135873\n",
      "[7]\tvalidation_0-error:0.121232\tvalidation_1-error:0.135873\n",
      "[8]\tvalidation_0-error:0.120896\tvalidation_1-error:0.137143\n",
      "[8]\tvalidation_0-error:0.120896\tvalidation_1-error:0.137143\n",
      "[9]\tvalidation_0-error:0.118431\tvalidation_1-error:0.135873\n",
      "[9]\tvalidation_0-error:0.118431\tvalidation_1-error:0.135873\n",
      "[10]\tvalidation_0-error:0.119104\tvalidation_1-error:0.135873\n",
      "[10]\tvalidation_0-error:0.119104\tvalidation_1-error:0.135873\n",
      "[11]\tvalidation_0-error:0.118207\tvalidation_1-error:0.137143\n",
      "[11]\tvalidation_0-error:0.118207\tvalidation_1-error:0.137143\n",
      "[12]\tvalidation_0-error:0.117199\tvalidation_1-error:0.135873\n",
      "[12]\tvalidation_0-error:0.117199\tvalidation_1-error:0.135873\n",
      "[13]\tvalidation_0-error:0.116863\tvalidation_1-error:0.135873\n",
      "[13]\tvalidation_0-error:0.116863\tvalidation_1-error:0.135873\n",
      "[14]\tvalidation_0-error:0.116078\tvalidation_1-error:0.135238\n",
      "[14]\tvalidation_0-error:0.116078\tvalidation_1-error:0.135238\n",
      "[15]\tvalidation_0-error:0.116078\tvalidation_1-error:0.135238\n",
      "[15]\tvalidation_0-error:0.116078\tvalidation_1-error:0.135238\n",
      "[16]\tvalidation_0-error:0.115854\tvalidation_1-error:0.134603\n",
      "[16]\tvalidation_0-error:0.115854\tvalidation_1-error:0.134603\n",
      "[17]\tvalidation_0-error:0.115742\tvalidation_1-error:0.135238\n",
      "[17]\tvalidation_0-error:0.115742\tvalidation_1-error:0.135238\n",
      "[18]\tvalidation_0-error:0.116639\tvalidation_1-error:0.135873\n",
      "[18]\tvalidation_0-error:0.116639\tvalidation_1-error:0.135873\n",
      "[19]\tvalidation_0-error:0.115406\tvalidation_1-error:0.134603\n",
      "[19]\tvalidation_0-error:0.115406\tvalidation_1-error:0.134603\n",
      "[20]\tvalidation_0-error:0.11563\tvalidation_1-error:0.134603\n",
      "[20]\tvalidation_0-error:0.11563\tvalidation_1-error:0.134603\n",
      "[21]\tvalidation_0-error:0.115518\tvalidation_1-error:0.132063\n",
      "[21]\tvalidation_0-error:0.115518\tvalidation_1-error:0.132063\n",
      "[22]\tvalidation_0-error:0.114734\tvalidation_1-error:0.132698\n",
      "[22]\tvalidation_0-error:0.114734\tvalidation_1-error:0.132698\n",
      "[23]\tvalidation_0-error:0.114174\tvalidation_1-error:0.132698\n",
      "[23]\tvalidation_0-error:0.114174\tvalidation_1-error:0.132698\n",
      "[24]\tvalidation_0-error:0.113725\tvalidation_1-error:0.132698\n",
      "[24]\tvalidation_0-error:0.113725\tvalidation_1-error:0.132698\n",
      "[25]\tvalidation_0-error:0.112829\tvalidation_1-error:0.130794\n",
      "[25]\tvalidation_0-error:0.112829\tvalidation_1-error:0.130794\n",
      "[26]\tvalidation_0-error:0.112941\tvalidation_1-error:0.131429\n",
      "[26]\tvalidation_0-error:0.112941\tvalidation_1-error:0.131429\n",
      "[27]\tvalidation_0-error:0.111709\tvalidation_1-error:0.132063\n",
      "[27]\tvalidation_0-error:0.111709\tvalidation_1-error:0.132063\n",
      "[28]\tvalidation_0-error:0.111373\tvalidation_1-error:0.132063\n",
      "[28]\tvalidation_0-error:0.111373\tvalidation_1-error:0.132063\n",
      "[29]\tvalidation_0-error:0.111709\tvalidation_1-error:0.132063\n",
      "[29]\tvalidation_0-error:0.111709\tvalidation_1-error:0.132063\n",
      "[30]\tvalidation_0-error:0.110476\tvalidation_1-error:0.130794\n",
      "[30]\tvalidation_0-error:0.110476\tvalidation_1-error:0.130794\n",
      "[31]\tvalidation_0-error:0.110364\tvalidation_1-error:0.131429\n",
      "[31]\tvalidation_0-error:0.110364\tvalidation_1-error:0.131429\n",
      "[32]\tvalidation_0-error:0.110476\tvalidation_1-error:0.131429\n",
      "[32]\tvalidation_0-error:0.110476\tvalidation_1-error:0.131429\n",
      "[33]\tvalidation_0-error:0.11014\tvalidation_1-error:0.132063\n",
      "[33]\tvalidation_0-error:0.11014\tvalidation_1-error:0.132063\n",
      "[34]\tvalidation_0-error:0.109804\tvalidation_1-error:0.132063\n",
      "[34]\tvalidation_0-error:0.109804\tvalidation_1-error:0.132063\n",
      "[35]\tvalidation_0-error:0.109468\tvalidation_1-error:0.131429\n",
      "[35]\tvalidation_0-error:0.109468\tvalidation_1-error:0.131429\n",
      "[36]\tvalidation_0-error:0.109244\tvalidation_1-error:0.131429\n",
      "[36]\tvalidation_0-error:0.109244\tvalidation_1-error:0.131429\n",
      "[37]\tvalidation_0-error:0.107339\tvalidation_1-error:0.133333\n",
      "[37]\tvalidation_0-error:0.107339\tvalidation_1-error:0.133333\n",
      "[38]\tvalidation_0-error:0.107115\tvalidation_1-error:0.133968\n",
      "[38]\tvalidation_0-error:0.107115\tvalidation_1-error:0.133968\n",
      "[39]\tvalidation_0-error:0.106891\tvalidation_1-error:0.133968\n",
      "[39]\tvalidation_0-error:0.106891\tvalidation_1-error:0.133968\n",
      "[40]\tvalidation_0-error:0.107003\tvalidation_1-error:0.133968\n",
      "[40]\tvalidation_0-error:0.107003\tvalidation_1-error:0.133968\n",
      "[41]\tvalidation_0-error:0.107003\tvalidation_1-error:0.133333\n",
      "[41]\tvalidation_0-error:0.107003\tvalidation_1-error:0.133333\n",
      "[42]\tvalidation_0-error:0.106779\tvalidation_1-error:0.133333\n",
      "[42]\tvalidation_0-error:0.106779\tvalidation_1-error:0.133333\n",
      "[43]\tvalidation_0-error:0.107003\tvalidation_1-error:0.133968\n",
      "[43]\tvalidation_0-error:0.107003\tvalidation_1-error:0.133968\n",
      "[44]\tvalidation_0-error:0.107003\tvalidation_1-error:0.133333\n",
      "[44]\tvalidation_0-error:0.107003\tvalidation_1-error:0.133333\n",
      "[45]\tvalidation_0-error:0.106891\tvalidation_1-error:0.133333\n",
      "[45]\tvalidation_0-error:0.106891\tvalidation_1-error:0.133333\n",
      "[46]\tvalidation_0-error:0.106555\tvalidation_1-error:0.132698\n",
      "[46]\tvalidation_0-error:0.106555\tvalidation_1-error:0.132698\n",
      "[47]\tvalidation_0-error:0.105994\tvalidation_1-error:0.132063\n",
      "[47]\tvalidation_0-error:0.105994\tvalidation_1-error:0.132063\n",
      "[48]\tvalidation_0-error:0.105658\tvalidation_1-error:0.132063\n",
      "[48]\tvalidation_0-error:0.105658\tvalidation_1-error:0.132063\n",
      "[49]\tvalidation_0-error:0.105098\tvalidation_1-error:0.130794\n",
      "[49]\tvalidation_0-error:0.105098\tvalidation_1-error:0.130794\n",
      "[50]\tvalidation_0-error:0.104874\tvalidation_1-error:0.130794\n",
      "[50]\tvalidation_0-error:0.104874\tvalidation_1-error:0.130794\n",
      "[51]\tvalidation_0-error:0.104762\tvalidation_1-error:0.130159\n",
      "[51]\tvalidation_0-error:0.104762\tvalidation_1-error:0.130159\n",
      "[52]\tvalidation_0-error:0.103529\tvalidation_1-error:0.130159\n",
      "[52]\tvalidation_0-error:0.103529\tvalidation_1-error:0.130159\n",
      "[53]\tvalidation_0-error:0.103417\tvalidation_1-error:0.130159\n",
      "[53]\tvalidation_0-error:0.103417\tvalidation_1-error:0.130159\n",
      "[54]\tvalidation_0-error:0.103305\tvalidation_1-error:0.130159\n",
      "[54]\tvalidation_0-error:0.103305\tvalidation_1-error:0.130159\n",
      "[55]\tvalidation_0-error:0.103193\tvalidation_1-error:0.130159\n",
      "[55]\tvalidation_0-error:0.103193\tvalidation_1-error:0.130159\n",
      "[56]\tvalidation_0-error:0.102297\tvalidation_1-error:0.130794\n",
      "[56]\tvalidation_0-error:0.102297\tvalidation_1-error:0.130794\n",
      "[57]\tvalidation_0-error:0.102185\tvalidation_1-error:0.130794\n",
      "[57]\tvalidation_0-error:0.102185\tvalidation_1-error:0.130794\n",
      "[58]\tvalidation_0-error:0.101176\tvalidation_1-error:0.130159\n",
      "[58]\tvalidation_0-error:0.101176\tvalidation_1-error:0.130159\n",
      "[59]\tvalidation_0-error:0.101289\tvalidation_1-error:0.131429\n",
      "[59]\tvalidation_0-error:0.101289\tvalidation_1-error:0.131429\n",
      "[60]\tvalidation_0-error:0.100952\tvalidation_1-error:0.132063\n",
      "[60]\tvalidation_0-error:0.100952\tvalidation_1-error:0.132063\n",
      "[61]\tvalidation_0-error:0.100616\tvalidation_1-error:0.132698\n",
      "[61]\tvalidation_0-error:0.100616\tvalidation_1-error:0.132698\n",
      "[62]\tvalidation_0-error:0.100168\tvalidation_1-error:0.132063\n",
      "[62]\tvalidation_0-error:0.100168\tvalidation_1-error:0.132063\n",
      "[63]\tvalidation_0-error:0.100168\tvalidation_1-error:0.132063\n",
      "[63]\tvalidation_0-error:0.100168\tvalidation_1-error:0.132063\n",
      "[64]\tvalidation_0-error:0.09972\tvalidation_1-error:0.131429\n",
      "[64]\tvalidation_0-error:0.09972\tvalidation_1-error:0.131429\n",
      "[65]\tvalidation_0-error:0.099832\tvalidation_1-error:0.131429\n",
      "[65]\tvalidation_0-error:0.099832\tvalidation_1-error:0.131429\n",
      "[66]\tvalidation_0-error:0.099608\tvalidation_1-error:0.131429\n",
      "[66]\tvalidation_0-error:0.099608\tvalidation_1-error:0.131429\n",
      "[67]\tvalidation_0-error:0.099608\tvalidation_1-error:0.130794\n"
     ]
    },
    {
     "name": "stdout",
     "output_type": "stream",
     "text": [
      "[67]\tvalidation_0-error:0.099608\tvalidation_1-error:0.130794\n",
      "[68]\tvalidation_0-error:0.099496\tvalidation_1-error:0.130794\n",
      "[68]\tvalidation_0-error:0.099496\tvalidation_1-error:0.130794\n",
      "[69]\tvalidation_0-error:0.099608\tvalidation_1-error:0.132063\n",
      "[69]\tvalidation_0-error:0.099608\tvalidation_1-error:0.132063\n",
      "[70]\tvalidation_0-error:0.099496\tvalidation_1-error:0.131429\n",
      "[70]\tvalidation_0-error:0.099496\tvalidation_1-error:0.131429\n",
      "[71]\tvalidation_0-error:0.098936\tvalidation_1-error:0.130794\n",
      "[71]\tvalidation_0-error:0.098936\tvalidation_1-error:0.130794\n",
      "[72]\tvalidation_0-error:0.098375\tvalidation_1-error:0.130794\n",
      "[72]\tvalidation_0-error:0.098375\tvalidation_1-error:0.130794\n",
      "[73]\tvalidation_0-error:0.097815\tvalidation_1-error:0.131429\n",
      "[73]\tvalidation_0-error:0.097815\tvalidation_1-error:0.131429\n",
      "[74]\tvalidation_0-error:0.098263\tvalidation_1-error:0.131429\n",
      "[74]\tvalidation_0-error:0.098263\tvalidation_1-error:0.131429\n",
      "[75]\tvalidation_0-error:0.097031\tvalidation_1-error:0.130794\n",
      "[75]\tvalidation_0-error:0.097031\tvalidation_1-error:0.130794\n",
      "[76]\tvalidation_0-error:0.097031\tvalidation_1-error:0.130159\n",
      "[76]\tvalidation_0-error:0.097031\tvalidation_1-error:0.130159\n",
      "[77]\tvalidation_0-error:0.096807\tvalidation_1-error:0.130159\n",
      "[77]\tvalidation_0-error:0.096807\tvalidation_1-error:0.130159\n",
      "[78]\tvalidation_0-error:0.096471\tvalidation_1-error:0.130159\n",
      "[78]\tvalidation_0-error:0.096471\tvalidation_1-error:0.130159\n",
      "[79]\tvalidation_0-error:0.096583\tvalidation_1-error:0.130159\n",
      "[79]\tvalidation_0-error:0.096583\tvalidation_1-error:0.130159\n",
      "[80]\tvalidation_0-error:0.096246\tvalidation_1-error:0.130159\n",
      "[80]\tvalidation_0-error:0.096246\tvalidation_1-error:0.130159\n",
      "[81]\tvalidation_0-error:0.096022\tvalidation_1-error:0.130159\n",
      "[81]\tvalidation_0-error:0.096022\tvalidation_1-error:0.130159\n",
      "[82]\tvalidation_0-error:0.096134\tvalidation_1-error:0.130159\n",
      "[82]\tvalidation_0-error:0.096134\tvalidation_1-error:0.130159\n",
      "[83]\tvalidation_0-error:0.095686\tvalidation_1-error:0.130159\n",
      "[83]\tvalidation_0-error:0.095686\tvalidation_1-error:0.130159\n",
      "[84]\tvalidation_0-error:0.09535\tvalidation_1-error:0.130794\n",
      "[84]\tvalidation_0-error:0.09535\tvalidation_1-error:0.130794\n",
      "[85]\tvalidation_0-error:0.09479\tvalidation_1-error:0.130794\n",
      "[85]\tvalidation_0-error:0.09479\tvalidation_1-error:0.130794\n",
      "[86]\tvalidation_0-error:0.094118\tvalidation_1-error:0.130159\n",
      "[86]\tvalidation_0-error:0.094118\tvalidation_1-error:0.130159\n",
      "[87]\tvalidation_0-error:0.09423\tvalidation_1-error:0.130159\n",
      "[87]\tvalidation_0-error:0.09423\tvalidation_1-error:0.130159\n",
      "[88]\tvalidation_0-error:0.093333\tvalidation_1-error:0.130794\n",
      "[88]\tvalidation_0-error:0.093333\tvalidation_1-error:0.130794\n",
      "[89]\tvalidation_0-error:0.093109\tvalidation_1-error:0.130794\n",
      "[89]\tvalidation_0-error:0.093109\tvalidation_1-error:0.130794\n",
      "[90]\tvalidation_0-error:0.093109\tvalidation_1-error:0.130794\n",
      "[90]\tvalidation_0-error:0.093109\tvalidation_1-error:0.130794\n",
      "[91]\tvalidation_0-error:0.093109\tvalidation_1-error:0.131429\n",
      "[91]\tvalidation_0-error:0.093109\tvalidation_1-error:0.131429\n",
      "[92]\tvalidation_0-error:0.092325\tvalidation_1-error:0.131429\n",
      "[92]\tvalidation_0-error:0.092325\tvalidation_1-error:0.131429\n",
      "[93]\tvalidation_0-error:0.092101\tvalidation_1-error:0.131429\n",
      "[93]\tvalidation_0-error:0.092101\tvalidation_1-error:0.131429\n",
      "[94]\tvalidation_0-error:0.092213\tvalidation_1-error:0.131429\n",
      "[94]\tvalidation_0-error:0.092213\tvalidation_1-error:0.131429\n",
      "[95]\tvalidation_0-error:0.092101\tvalidation_1-error:0.132063\n",
      "[95]\tvalidation_0-error:0.092101\tvalidation_1-error:0.132063\n",
      "[96]\tvalidation_0-error:0.091653\tvalidation_1-error:0.132063\n",
      "[96]\tvalidation_0-error:0.091653\tvalidation_1-error:0.132063\n",
      "[97]\tvalidation_0-error:0.091204\tvalidation_1-error:0.131429\n",
      "[97]\tvalidation_0-error:0.091204\tvalidation_1-error:0.131429\n",
      "[98]\tvalidation_0-error:0.091092\tvalidation_1-error:0.131429\n",
      "[98]\tvalidation_0-error:0.091092\tvalidation_1-error:0.131429\n",
      "[99]\tvalidation_0-error:0.090084\tvalidation_1-error:0.130794\n",
      "[99]\tvalidation_0-error:0.090084\tvalidation_1-error:0.130794\n",
      "[100]\tvalidation_0-error:0.089636\tvalidation_1-error:0.130159\n",
      "[100]\tvalidation_0-error:0.089636\tvalidation_1-error:0.130159\n",
      "[101]\tvalidation_0-error:0.089524\tvalidation_1-error:0.129524\n",
      "[101]\tvalidation_0-error:0.089524\tvalidation_1-error:0.129524\n",
      "[102]\tvalidation_0-error:0.0893\tvalidation_1-error:0.129524\n",
      "[102]\tvalidation_0-error:0.0893\tvalidation_1-error:0.129524\n",
      "[103]\tvalidation_0-error:0.088403\tvalidation_1-error:0.129524\n",
      "[103]\tvalidation_0-error:0.088403\tvalidation_1-error:0.129524\n",
      "[104]\tvalidation_0-error:0.088067\tvalidation_1-error:0.129524\n",
      "[104]\tvalidation_0-error:0.088067\tvalidation_1-error:0.129524\n",
      "[105]\tvalidation_0-error:0.087395\tvalidation_1-error:0.129524\n",
      "[105]\tvalidation_0-error:0.087395\tvalidation_1-error:0.129524\n",
      "[106]\tvalidation_0-error:0.086947\tvalidation_1-error:0.128889\n",
      "[106]\tvalidation_0-error:0.086947\tvalidation_1-error:0.128889\n",
      "[107]\tvalidation_0-error:0.086723\tvalidation_1-error:0.128889\n",
      "[107]\tvalidation_0-error:0.086723\tvalidation_1-error:0.128889\n",
      "[108]\tvalidation_0-error:0.086611\tvalidation_1-error:0.128889\n",
      "[108]\tvalidation_0-error:0.086611\tvalidation_1-error:0.128889\n",
      "[109]\tvalidation_0-error:0.086275\tvalidation_1-error:0.128254\n",
      "[109]\tvalidation_0-error:0.086275\tvalidation_1-error:0.128254\n",
      "[110]\tvalidation_0-error:0.085826\tvalidation_1-error:0.128254\n",
      "[110]\tvalidation_0-error:0.085826\tvalidation_1-error:0.128254\n",
      "[111]\tvalidation_0-error:0.085378\tvalidation_1-error:0.128254\n",
      "[111]\tvalidation_0-error:0.085378\tvalidation_1-error:0.128254\n",
      "[112]\tvalidation_0-error:0.08549\tvalidation_1-error:0.128254\n",
      "[112]\tvalidation_0-error:0.08549\tvalidation_1-error:0.128254\n",
      "[113]\tvalidation_0-error:0.084706\tvalidation_1-error:0.128254\n",
      "[113]\tvalidation_0-error:0.084706\tvalidation_1-error:0.128254\n",
      "[114]\tvalidation_0-error:0.084594\tvalidation_1-error:0.127619\n",
      "[114]\tvalidation_0-error:0.084594\tvalidation_1-error:0.127619\n",
      "[115]\tvalidation_0-error:0.083697\tvalidation_1-error:0.128254\n",
      "[115]\tvalidation_0-error:0.083697\tvalidation_1-error:0.128254\n",
      "[116]\tvalidation_0-error:0.083249\tvalidation_1-error:0.128254\n",
      "[116]\tvalidation_0-error:0.083249\tvalidation_1-error:0.128254\n",
      "[117]\tvalidation_0-error:0.082801\tvalidation_1-error:0.128254\n",
      "[117]\tvalidation_0-error:0.082801\tvalidation_1-error:0.128254\n",
      "[118]\tvalidation_0-error:0.082241\tvalidation_1-error:0.128254\n",
      "[118]\tvalidation_0-error:0.082241\tvalidation_1-error:0.128254\n",
      "[119]\tvalidation_0-error:0.081793\tvalidation_1-error:0.128889\n",
      "[119]\tvalidation_0-error:0.081793\tvalidation_1-error:0.128889\n",
      "[120]\tvalidation_0-error:0.081569\tvalidation_1-error:0.128254\n",
      "[120]\tvalidation_0-error:0.081569\tvalidation_1-error:0.128254\n",
      "[121]\tvalidation_0-error:0.080448\tvalidation_1-error:0.128254\n",
      "[121]\tvalidation_0-error:0.080448\tvalidation_1-error:0.128254\n",
      "[122]\tvalidation_0-error:0.08056\tvalidation_1-error:0.128254\n",
      "[122]\tvalidation_0-error:0.08056\tvalidation_1-error:0.128254\n",
      "[123]\tvalidation_0-error:0.080112\tvalidation_1-error:0.128254\n",
      "[123]\tvalidation_0-error:0.080112\tvalidation_1-error:0.128254\n",
      "[124]\tvalidation_0-error:0.079888\tvalidation_1-error:0.128254\n",
      "[124]\tvalidation_0-error:0.079888\tvalidation_1-error:0.128254\n",
      "[125]\tvalidation_0-error:0.079552\tvalidation_1-error:0.128254\n",
      "[125]\tvalidation_0-error:0.079552\tvalidation_1-error:0.128254\n",
      "[126]\tvalidation_0-error:0.079328\tvalidation_1-error:0.129524\n",
      "[126]\tvalidation_0-error:0.079328\tvalidation_1-error:0.129524\n",
      "[127]\tvalidation_0-error:0.079328\tvalidation_1-error:0.128889\n",
      "[127]\tvalidation_0-error:0.079328\tvalidation_1-error:0.128889\n",
      "[128]\tvalidation_0-error:0.078431\tvalidation_1-error:0.128254\n",
      "[128]\tvalidation_0-error:0.078431\tvalidation_1-error:0.128254\n",
      "[129]\tvalidation_0-error:0.078431\tvalidation_1-error:0.128889\n",
      "[129]\tvalidation_0-error:0.078431\tvalidation_1-error:0.128889\n",
      "[130]\tvalidation_0-error:0.078207\tvalidation_1-error:0.128889\n",
      "[130]\tvalidation_0-error:0.078207\tvalidation_1-error:0.128889\n",
      "[131]\tvalidation_0-error:0.077871\tvalidation_1-error:0.128254\n",
      "[131]\tvalidation_0-error:0.077871\tvalidation_1-error:0.128254\n",
      "[132]\tvalidation_0-error:0.077423\tvalidation_1-error:0.127619\n",
      "[132]\tvalidation_0-error:0.077423\tvalidation_1-error:0.127619\n",
      "[133]\tvalidation_0-error:0.077311\tvalidation_1-error:0.127619\n",
      "[133]\tvalidation_0-error:0.077311\tvalidation_1-error:0.127619\n",
      "[134]\tvalidation_0-error:0.076863\tvalidation_1-error:0.127619\n"
     ]
    },
    {
     "name": "stdout",
     "output_type": "stream",
     "text": [
      "[134]\tvalidation_0-error:0.076863\tvalidation_1-error:0.127619\n",
      "SCORE: 0.8723809523809524\n",
      "SCORE: 0.8723809523809524\n"
     ]
    }
   ],
   "source": [
    "clf = XGBClassifier( learning_rate =0.1, n_estimators=135, max_depth=7,\n",
    " min_child_weight=5, gamma=0, subsample=0.9, colsample_bytree=0.9,\n",
    " objective= 'binary:logistic', nthread=4,reg_alpha=0.01, scale_pos_weight=1,seed=27)\n",
    "\n",
    "eval_set  = [(X_train, y_train),(X_test, y_test)]\n",
    "\n",
    "clf.fit(X_train, y_train,\n",
    "            eval_set=eval_set, eval_metric='error')\n",
    "\n",
    "pred = clf.predict_proba(X_test)[:,1]\n",
    "accuracy = accuracy_score(y_test, np.round(pred))\n",
    "print(\"SCORE:\", accuracy)"
   ]
  },
  {
   "cell_type": "code",
   "execution_count": 495,
   "metadata": {},
   "outputs": [],
   "source": [
    "prep_sub(clf)"
   ]
  },
  {
   "cell_type": "code",
   "execution_count": 125,
   "metadata": {},
   "outputs": [
    {
     "name": "stdout",
     "output_type": "stream",
     "text": [
      "Fitting 3 folds for each of 60 candidates, totalling 180 fits\n",
      "Fitting 3 folds for each of 60 candidates, totalling 180 fits\n"
     ]
    },
    {
     "name": "stderr",
     "output_type": "stream",
     "text": [
      "[Parallel(n_jobs=-1)]: Using backend LokyBackend with 4 concurrent workers.\n",
      "[Parallel(n_jobs=-1)]: Using backend LokyBackend with 4 concurrent workers.\n",
      "[Parallel(n_jobs=-1)]: Done  42 tasks      | elapsed:   27.5s\n",
      "[Parallel(n_jobs=-1)]: Done  42 tasks      | elapsed:   27.5s\n",
      "[Parallel(n_jobs=-1)]: Done 180 out of 180 | elapsed:  6.8min finished\n",
      "[Parallel(n_jobs=-1)]: Done 180 out of 180 | elapsed:  6.8min finished\n"
     ]
    }
   ],
   "source": [
    "### hp tuning RF ##\n",
    "\n",
    "## logistic regr ##\n",
    "from sklearn.pipeline import Pipeline\n",
    "\n",
    "#pipe = Pipeline([('classifier' , LogisticRegression())])\n",
    "pipe = Pipeline([('classifier', RandomForestClassifier())])\n",
    "\n",
    "# Create param grid.\n",
    "\n",
    "param_grid = [\n",
    "    #{'classifier' : [LogisticRegression()],\n",
    "   #  'classifier__penalty' : ['l1', 'l2'],\n",
    "   # 'classifier__C' : np.logspace(-4, 4, 20),\n",
    "    #'classifier__solver' : ['liblinear']},\n",
    "    {'classifier' : [RandomForestClassifier()],\n",
    "    'classifier__n_estimators' : list(range(10,101,10)),\n",
    "    'classifier__max_features' : list(range(6,32,5))}\n",
    "]\n",
    "\n",
    "# Create grid search object\n",
    "\n",
    "clf = GridSearchCV(pipe, param_grid = param_grid, cv = 3, verbose=True, n_jobs=-1)\n",
    "\n",
    "# Fit on data\n",
    "\n",
    "best_clf = clf.fit(pro_train, train['gender'])"
   ]
  },
  {
   "cell_type": "code",
   "execution_count": 510,
   "metadata": {},
   "outputs": [],
   "source": [
    "prep_sub(best_clf)"
   ]
  },
  {
   "cell_type": "code",
   "execution_count": 198,
   "metadata": {},
   "outputs": [
    {
     "data": {
      "text/plain": [
       "0.8733333333333333"
      ]
     },
     "execution_count": 198,
     "metadata": {},
     "output_type": "execute_result"
    },
    {
     "data": {
      "text/plain": [
       "0.8733333333333333"
      ]
     },
     "execution_count": 198,
     "metadata": {},
     "output_type": "execute_result"
    }
   ],
   "source": [
    "from sklearn.datasets import load_iris\n",
    "from sklearn.ensemble import RandomForestClassifier\n",
    "from sklearn.svm import LinearSVC\n",
    "from sklearn.linear_model import LogisticRegression\n",
    "from sklearn.preprocessing import StandardScaler\n",
    "from sklearn.pipeline import make_pipeline\n",
    "from sklearn.ensemble import StackingClassifier\n",
    "from sklearn.neighbors import KNeighborsClassifier\n",
    "from sklearn.naive_bayes import GaussianNB\n",
    "\n",
    "X, y = pro_train,train['gender']\n",
    "\n",
    "\n",
    "estimators = [\n",
    "             ('rf', RandomForestClassifier(n_estimators=10, random_state=42)),\n",
    "             #('svr', make_pipeline(StandardScaler(),\n",
    "                          # LinearSVC(penalty='l2',random_state=42,max_iter=10000))),\n",
    "             ('lr', LogisticRegression(solver='liblinear',penalty='l1')),\n",
    "             ('knn', make_pipeline(StandardScaler(),\n",
    "                           KNeighborsClassifier())),\n",
    "             ('nb', make_pipeline(StandardScaler(),\n",
    "                           GaussianNB()))\n",
    "             #('lr', LogisticRegression(penalty='l2'))\n",
    " ]\n",
    "\n",
    "clf = StackingClassifier(\n",
    "    estimators=estimators, n_jobs=-1,passthrough=True,verbose = 1,final_estimator= XGBClassifier(learning_rate =0.1, n_estimators=166, max_depth=5,\n",
    " min_child_weight=1, gamma=0.1, subsample=0.9, colsample_bytree=0.6,\n",
    " objective= 'binary:logistic', nthread=4, scale_pos_weight=1,seed=27))\n",
    "\n",
    "from sklearn.model_selection import train_test_split\n",
    "\n",
    "\n",
    "X_train, X_test, y_train, y_test = train_test_split(\n",
    "     X, y, stratify=y, random_state=42,test_size =.1\n",
    " )\n",
    "\n",
    "\n",
    "clf.fit(X_train, y_train).score(X_test, y_test)\n"
   ]
  },
  {
   "cell_type": "code",
   "execution_count": 199,
   "metadata": {},
   "outputs": [],
   "source": [
    "prep_sub(clf)"
   ]
  },
  {
   "cell_type": "code",
   "execution_count": 197,
   "metadata": {},
   "outputs": [
    {
     "name": "stdout",
     "output_type": "stream",
     "text": [
      "0.8507936507936508\n",
      "0.8507936507936508\n"
     ]
    }
   ],
   "source": [
    "for clf=LogisticRegression(solver='liblinear',penalty='l1')\n",
    "clf.fit(X_train, y_train)\n",
    "print(clf.score(X_test, y_test))"
   ]
  },
  {
   "cell_type": "code",
   "execution_count": null,
   "metadata": {},
   "outputs": [],
   "source": [
    "from sklearn.svm import SVC\n",
    "\n",
    "\n",
    "scaler = StandardScaler()\n",
    "print(scaler.fit(pro_train))\n",
    "protrain1=pd.DataFrame(scaler.transform((pro_train)))\n",
    "\n",
    "X_train, X_test, y_train, y_test = train_test_split(\n",
    "     protrain1, train['gender'], stratify=y, random_state=42,test_size =.2\n",
    " )\n",
    "\n",
    "for i in [.001,.01,.1,1,10,100,1000]:\n",
    "    clf=SVC(kernel='linear',C=i,verbose=0,gamma='auto')\n",
    "    clf.fit(X_train, y_train)\n",
    "    print(clf.score(X_test, y_test))"
   ]
  },
  {
   "cell_type": "code",
   "execution_count": null,
   "metadata": {},
   "outputs": [],
   "source": []
  },
  {
   "cell_type": "code",
   "execution_count": null,
   "metadata": {},
   "outputs": [],
   "source": []
  }
 ],
 "metadata": {
  "kernelspec": {
   "display_name": "Python 3",
   "language": "python",
   "name": "python3"
  },
  "language_info": {
   "codemirror_mode": {
    "name": "ipython",
    "version": 3
   },
   "file_extension": ".py",
   "mimetype": "text/x-python",
   "name": "python",
   "nbconvert_exporter": "python",
   "pygments_lexer": "ipython3",
   "version": "3.7.6"
  }
 },
 "nbformat": 4,
 "nbformat_minor": 2
}
